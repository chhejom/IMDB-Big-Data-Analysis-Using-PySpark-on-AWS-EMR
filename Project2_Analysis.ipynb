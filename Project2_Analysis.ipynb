{
 "cells": [
  {
   "cell_type": "markdown",
   "id": "8f336d0d-d627-4cb9-935a-a9dbe77c3bd1",
   "metadata": {
    "execution": {
     "iopub.execute_input": "2023-12-01T08:52:40.876913Z",
     "iopub.status.busy": "2023-12-01T08:52:40.876666Z",
     "iopub.status.idle": "2023-12-01T08:52:40.926164Z",
     "shell.execute_reply": "2023-12-01T08:52:40.925534Z",
     "shell.execute_reply.started": "2023-12-01T08:52:40.876886Z"
    }
   },
   "source": [
    "# Analysis of IMDB Data"
   ]
  },
  {
   "cell_type": "markdown",
   "id": "27ece450-6f4a-4ad8-ba19-65d821ab6a6b",
   "metadata": {},
   "source": [
    "We will analyze a subset of IMDB's actors, genres, movie actors, and movie ratings data. This dataset comes to us from Kaggle (https://www.kaggle.com/datasets/ashirwadsangwan/imdb-dataset) although we have taken steps to pull this data into a publis s3 bucket: \n",
    "\n",
    "* s3://cis9760-lecture9-movieanalysis/name.basics.tsv ---> (actors)\n",
    "* s3://cis9760-lecture9-movieanalysis/title.basics.tsv ---> (genres)\n",
    "* s3://cis9760-lecture9-movieanalysis/title.principals.tsv ---> (movie actors)\n",
    "* s3://cis9760-lecture9-movieanalysis/title.ratings.tsv ---> (movie ratings)"
   ]
  },
  {
   "cell_type": "markdown",
   "id": "c1685632-940c-48a0-afb5-f522eb238f9b",
   "metadata": {
    "execution": {
     "iopub.execute_input": "2023-12-01T08:53:30.406848Z",
     "iopub.status.busy": "2023-12-01T08:53:30.406627Z",
     "iopub.status.idle": "2023-12-01T08:53:30.462406Z",
     "shell.execute_reply": "2023-12-01T08:53:30.457556Z",
     "shell.execute_reply.started": "2023-12-01T08:53:30.406822Z"
    }
   },
   "source": [
    "# Content\n",
    "\n",
    "**<br />name.basics.tsv.gz – Contains the following information for names:**\n",
    "<br />nconst (string) - alphanumeric unique identifier of the name/person.\n",
    "<br />primaryName (string)– name by which the person is most often credited.\n",
    "<br />birthYear – in YYYY format.\n",
    "<br />deathYear – in YYYY format if applicable, else .\n",
    "<br />primaryProfession (array of strings)– the top-3 professions of the person.\n",
    "<br />knownForTitles (array of tconsts) – titles the person is known for.\n",
    "<br/><br/>\n",
    "**<br />title.basics.tsv.gz - Contains the following information for titles:**\n",
    "<br />tconst (string) - alphanumeric unique identifier of the title.\n",
    "<br />titleType (string) – the type/format of the title (e.g. movie, short, tvseries, tvepisode, video, etc).\n",
    "<br />primaryTitle (string) – the more popular title / the title used by the filmmakers on promotional materials at the point of release.\n",
    "<br />originalTitle (string) - original title, in the original language.\n",
    "<br />isAdult (boolean) - 0: non-adult title; 1: adult title.\n",
    "<br />startYear (YYYY) – represents the release year of a title. In the case of TV Series, it is the series start year.\n",
    "<br />endYear (YYYY) – TV Series end year. for all other title types.\n",
    "<br />runtimeMinutes – primary runtime of the title, in minutes.\n",
    "<br />genres (string array) – includes up to three genres associated with the title.\n",
    "<br/><br/>\n",
    "**<br />title.principals.tsv – Contains the principal cast/crew for titles:**\n",
    "<br />tconst (string) - alphanumeric unique identifier of the title.\n",
    "<br />ordering (integer) – a number to uniquely identify rows for a given titleId.\n",
    "<br />nconst (string) - alphanumeric unique identifier of the name/person.\n",
    "<br />category (string) - the category of job that person was in.\n",
    "<br />job (string) - the specific job title if applicable, else.\n",
    "<br />characters (string) - the name of the character played if applicable, else.\n",
    "<br/><br/>\n",
    "**<br />title.ratings.tsv.gz – Contains the IMDb rating and votes information for titles:**\n",
    "<br />tconst (string) - alphanumeric unique identifier of the title.\n",
    "<br />averageRating – weighted average of all the individual user ratings.\n",
    "<br />numVotes - number of votes the title has received."
   ]
  },
  {
   "cell_type": "markdown",
   "id": "c5a3dd9a-f0f7-4cfc-814f-1e0c71f5e42e",
   "metadata": {},
   "source": [
    "# PART 1 - Installation and Initial Setup\n"
   ]
  },
  {
   "cell_type": "markdown",
   "id": "fc4395de-3938-49d2-8381-8fbaed1343da",
   "metadata": {},
   "source": [
    "Begin by installing the necessary libraries that you may need to conduct your analysis. At the very least, you must install pandas and matplotlib"
   ]
  },
  {
   "cell_type": "code",
   "execution_count": 1,
   "id": "3ea8dfa1-0020-4272-8535-47479591116e",
   "metadata": {
    "execution": {
     "iopub.execute_input": "2023-12-01T10:06:25.423044Z",
     "iopub.status.busy": "2023-12-01T10:06:25.422719Z",
     "iopub.status.idle": "2023-12-01T10:06:25.435203Z",
     "shell.execute_reply": "2023-12-01T10:06:25.434552Z",
     "shell.execute_reply.started": "2023-12-01T10:06:25.423013Z"
    },
    "tags": []
   },
   "outputs": [
    {
     "data": {
      "text/html": [
       "Current session configs: <tt>{'proxyUser': 'user_EMR-Project2', 'conf': {'spark.pyspark.python': 'python3', 'spark.pyspark.virtualenv.enabled': 'true', 'spark.pyspark.virtualenv.type': 'native', 'spark.pyspark.virtualenv.bin.path': '/usr/bin/virtualenv'}, 'kind': 'pyspark'}</tt><br>"
      ],
      "text/plain": [
       "<IPython.core.display.HTML object>"
      ]
     },
     "metadata": {},
     "output_type": "display_data"
    },
    {
     "data": {
      "text/html": [
       "No active sessions."
      ],
      "text/plain": [
       "<IPython.core.display.HTML object>"
      ]
     },
     "metadata": {},
     "output_type": "display_data"
    }
   ],
   "source": [
    "%%info"
   ]
  },
  {
   "cell_type": "markdown",
   "id": "bac8a931-0fec-4d6b-b396-356c9248717c",
   "metadata": {},
   "source": [
    "Let's install the necessary packages here"
   ]
  },
  {
   "cell_type": "code",
   "execution_count": 2,
   "id": "4aa419d2-f6bc-47d1-946b-49156bfdeef6",
   "metadata": {
    "execution": {
     "iopub.execute_input": "2023-12-01T10:06:30.977530Z",
     "iopub.status.busy": "2023-12-01T10:06:30.977285Z",
     "iopub.status.idle": "2023-12-01T10:07:00.277590Z",
     "shell.execute_reply": "2023-12-01T10:07:00.276692Z",
     "shell.execute_reply.started": "2023-12-01T10:06:30.977504Z"
    },
    "tags": []
   },
   "outputs": [
    {
     "data": {
      "application/vnd.jupyter.widget-view+json": {
       "model_id": "ed21a9ddd33e4dd7b24e6979a71f3f2e",
       "version_major": 2,
       "version_minor": 0
      },
      "text/plain": [
       "VBox()"
      ]
     },
     "metadata": {},
     "output_type": "display_data"
    },
    {
     "name": "stdout",
     "output_type": "stream",
     "text": [
      "Starting Spark application\n"
     ]
    },
    {
     "data": {
      "text/html": [
       "<table>\n<tbody><tr><th>ID</th><th>YARN Application ID</th><th>Kind</th><th>State</th><th>Spark UI</th><th>Driver log</th><th>User</th><th>Current session?</th></tr><tr><td>15</td><td>application_1701373284599_0016</td><td>pyspark</td><td>idle</td><td><a target=\"_blank\" href=\"http://ip-172-31-37-61.us-east-2.compute.internal:20888/proxy/application_1701373284599_0016/\" class=\"emr-proxy-link j-2LD56P8D2WB7X application_1701373284599_0016\" emr-resource=\"j-2LD56P8D2WB7X\n\" application-id=\"application_1701373284599_0016\">Link</a></td><td><a target=\"_blank\" href=\"http://ip-172-31-46-65.us-east-2.compute.internal:8042/node/containerlogs/container_1701373284599_0016_01_000001/livy\">Link</a></td><td>None</td><td>✔</td></tr></tbody></table>"
      ],
      "text/plain": [
       "<IPython.core.display.HTML object>"
      ]
     },
     "metadata": {},
     "output_type": "display_data"
    },
    {
     "data": {
      "application/vnd.jupyter.widget-view+json": {
       "model_id": "",
       "version_major": 2,
       "version_minor": 0
      },
      "text/plain": [
       "FloatProgress(value=0.0, bar_style='info', description='Progress:', layout=Layout(height='25px', width='50%'),…"
      ]
     },
     "metadata": {},
     "output_type": "display_data"
    },
    {
     "name": "stdout",
     "output_type": "stream",
     "text": [
      "SparkSession available as 'spark'.\n"
     ]
    },
    {
     "data": {
      "application/vnd.jupyter.widget-view+json": {
       "model_id": "",
       "version_major": 2,
       "version_minor": 0
      },
      "text/plain": [
       "FloatProgress(value=0.0, bar_style='info', description='Progress:', layout=Layout(height='25px', width='50%'),…"
      ]
     },
     "metadata": {},
     "output_type": "display_data"
    },
    {
     "name": "stdout",
     "output_type": "stream",
     "text": [
      "Package                    Version\n",
      "-------------------------- ------------\n",
      "aws-cfn-bootstrap          2.0\n",
      "beautifulsoup4             4.9.3\n",
      "boto                       2.49.0\n",
      "click                      8.1.7\n",
      "docutils                   0.14\n",
      "jmespath                   1.0.1\n",
      "joblib                     1.3.2\n",
      "lockfile                   0.11.0\n",
      "lxml                       4.9.3\n",
      "mysqlclient                1.4.2\n",
      "nltk                       3.8.1\n",
      "nose                       1.3.4\n",
      "numpy                      1.20.0\n",
      "pip                        20.2.2\n",
      "py-dateutil                2.2\n",
      "pystache                   0.5.4\n",
      "python-daemon              2.2.3\n",
      "python37-sagemaker-pyspark 1.4.2\n",
      "pytz                       2023.3.post1\n",
      "PyYAML                     5.4.1\n",
      "regex                      2021.11.10\n",
      "setuptools                 28.8.0\n",
      "simplejson                 3.2.0\n",
      "six                        1.13.0\n",
      "tqdm                       4.66.1\n",
      "wheel                      0.29.0\n",
      "windmill                   1.6\n",
      "\n",
      "WARNING: The directory '/home/.cache/pip' or its parent directory is not owned or is not writable by the current user. The cache has been disabled. Check the permissions and owner of that directory. If executing pip with sudo, you may want sudo's -H flag."
     ]
    }
   ],
   "source": [
    "sc.list_packages()"
   ]
  },
  {
   "cell_type": "markdown",
   "id": "47be8494-e19b-48d3-a18f-61e67da204d9",
   "metadata": {},
   "source": [
    "Now, import the installed packages from the previous block below."
   ]
  },
  {
   "cell_type": "code",
   "execution_count": 3,
   "id": "5ea7925a-b0da-4b9e-9411-bd8e8a4cc7b3",
   "metadata": {
    "execution": {
     "iopub.execute_input": "2023-12-01T10:07:07.993674Z",
     "iopub.status.busy": "2023-12-01T10:07:07.993405Z",
     "iopub.status.idle": "2023-12-01T10:07:21.293701Z",
     "shell.execute_reply": "2023-12-01T10:07:21.292907Z",
     "shell.execute_reply.started": "2023-12-01T10:07:07.993650Z"
    },
    "tags": []
   },
   "outputs": [
    {
     "data": {
      "application/vnd.jupyter.widget-view+json": {
       "model_id": "f4e80550955f448ea6644a1076516c1f",
       "version_major": 2,
       "version_minor": 0
      },
      "text/plain": [
       "VBox()"
      ]
     },
     "metadata": {},
     "output_type": "display_data"
    },
    {
     "data": {
      "application/vnd.jupyter.widget-view+json": {
       "model_id": "",
       "version_major": 2,
       "version_minor": 0
      },
      "text/plain": [
       "FloatProgress(value=0.0, bar_style='info', description='Progress:', layout=Layout(height='25px', width='50%'),…"
      ]
     },
     "metadata": {},
     "output_type": "display_data"
    },
    {
     "name": "stdout",
     "output_type": "stream",
     "text": [
      "Collecting pandas==1.0.5\n",
      "  Downloading pandas-1.0.5-cp37-cp37m-manylinux1_x86_64.whl (10.1 MB)\n",
      "Collecting python-dateutil>=2.6.1\n",
      "  Downloading python_dateutil-2.8.2-py2.py3-none-any.whl (247 kB)\n",
      "Requirement already satisfied: pytz>=2017.2 in /usr/local/lib/python3.7/site-packages (from pandas==1.0.5) (2023.3.post1)\n",
      "Requirement already satisfied: numpy>=1.13.3 in /usr/local/lib64/python3.7/site-packages (from pandas==1.0.5) (1.20.0)\n",
      "Requirement already satisfied: six>=1.5 in /usr/local/lib/python3.7/site-packages (from python-dateutil>=2.6.1->pandas==1.0.5) (1.13.0)\n",
      "Installing collected packages: python-dateutil, pandas\n",
      "Successfully installed pandas-1.0.5 python-dateutil-2.8.2\n",
      "\n",
      "WARNING: The directory '/home/.cache/pip' or its parent directory is not owned or is not writable by the current user. The cache has been disabled. Check the permissions and owner of that directory. If executing pip with sudo, you may want sudo's -H flag."
     ]
    }
   ],
   "source": [
    "sc.install_pypi_package(\"pandas==1.0.5\")"
   ]
  },
  {
   "cell_type": "markdown",
   "id": "c839d269-14a3-4f43-b207-727599c56ccf",
   "metadata": {},
   "source": [
    "Now, import the installed packages from the previous block below."
   ]
  },
  {
   "cell_type": "code",
   "execution_count": 4,
   "id": "6ad3aa25-1c44-4c8e-a102-b3efbcdbc11a",
   "metadata": {
    "execution": {
     "iopub.execute_input": "2023-12-01T10:07:29.318161Z",
     "iopub.status.busy": "2023-12-01T10:07:29.317933Z",
     "iopub.status.idle": "2023-12-01T10:07:36.598921Z",
     "shell.execute_reply": "2023-12-01T10:07:36.598322Z",
     "shell.execute_reply.started": "2023-12-01T10:07:29.318137Z"
    },
    "tags": []
   },
   "outputs": [
    {
     "data": {
      "application/vnd.jupyter.widget-view+json": {
       "model_id": "0349a50b4f344c668107c16de637061f",
       "version_major": 2,
       "version_minor": 0
      },
      "text/plain": [
       "VBox()"
      ]
     },
     "metadata": {},
     "output_type": "display_data"
    },
    {
     "data": {
      "application/vnd.jupyter.widget-view+json": {
       "model_id": "",
       "version_major": 2,
       "version_minor": 0
      },
      "text/plain": [
       "FloatProgress(value=0.0, bar_style='info', description='Progress:', layout=Layout(height='25px', width='50%'),…"
      ]
     },
     "metadata": {},
     "output_type": "display_data"
    },
    {
     "name": "stdout",
     "output_type": "stream",
     "text": [
      "Collecting matplotlib==3.2.1\n",
      "  Downloading matplotlib-3.2.1-cp37-cp37m-manylinux1_x86_64.whl (12.4 MB)\n",
      "Collecting cycler>=0.10\n",
      "  Downloading cycler-0.11.0-py3-none-any.whl (6.4 kB)\n",
      "Collecting pyparsing!=2.0.4,!=2.1.2,!=2.1.6,>=2.0.1\n",
      "  Downloading pyparsing-3.1.1-py3-none-any.whl (103 kB)\n",
      "Requirement already satisfied: numpy>=1.11 in /usr/local/lib64/python3.7/site-packages (from matplotlib==3.2.1) (1.20.0)\n",
      "Requirement already satisfied: python-dateutil>=2.1 in ./tmp/spark-922de1b7-dfbc-4640-a07b-5613b5a01c15/lib/python3.7/site-packages (from matplotlib==3.2.1) (2.8.2)\n",
      "Collecting kiwisolver>=1.0.1\n",
      "  Downloading kiwisolver-1.4.5-cp37-cp37m-manylinux_2_5_x86_64.manylinux1_x86_64.whl (1.1 MB)\n",
      "Requirement already satisfied: six>=1.5 in /usr/local/lib/python3.7/site-packages (from python-dateutil>=2.1->matplotlib==3.2.1) (1.13.0)\n",
      "Collecting typing-extensions; python_version < \"3.8\"\n",
      "  Downloading typing_extensions-4.7.1-py3-none-any.whl (33 kB)\n",
      "Installing collected packages: cycler, pyparsing, typing-extensions, kiwisolver, matplotlib\n",
      "Successfully installed cycler-0.11.0 kiwisolver-1.4.5 matplotlib-3.2.1 pyparsing-3.1.1 typing-extensions-4.7.1\n",
      "\n",
      "WARNING: The directory '/home/.cache/pip' or its parent directory is not owned or is not writable by the current user. The cache has been disabled. Check the permissions and owner of that directory. If executing pip with sudo, you may want sudo's -H flag."
     ]
    }
   ],
   "source": [
    "sc.install_pypi_package(\"matplotlib==3.2.1\")"
   ]
  },
  {
   "cell_type": "code",
   "execution_count": 5,
   "id": "d6bf7b27-ef54-46dd-8cd5-6a35c15ff089",
   "metadata": {
    "execution": {
     "iopub.execute_input": "2023-12-01T10:07:42.358980Z",
     "iopub.status.busy": "2023-12-01T10:07:42.358702Z",
     "iopub.status.idle": "2023-12-01T10:07:43.626462Z",
     "shell.execute_reply": "2023-12-01T10:07:43.625672Z",
     "shell.execute_reply.started": "2023-12-01T10:07:42.358954Z"
    },
    "tags": []
   },
   "outputs": [
    {
     "data": {
      "application/vnd.jupyter.widget-view+json": {
       "model_id": "7b2ee3f931d6447e86316078e7a992a8",
       "version_major": 2,
       "version_minor": 0
      },
      "text/plain": [
       "VBox()"
      ]
     },
     "metadata": {},
     "output_type": "display_data"
    },
    {
     "data": {
      "application/vnd.jupyter.widget-view+json": {
       "model_id": "",
       "version_major": 2,
       "version_minor": 0
      },
      "text/plain": [
       "FloatProgress(value=0.0, bar_style='info', description='Progress:', layout=Layout(height='25px', width='50%'),…"
      ]
     },
     "metadata": {},
     "output_type": "display_data"
    }
   ],
   "source": [
    "import pandas as pd\n",
    "import numpy as np\n",
    "import matplotlib.pyplot as plt"
   ]
  },
  {
   "cell_type": "markdown",
   "id": "78098539-0253-43f0-ac39-081be021a884",
   "metadata": {
    "tags": []
   },
   "source": [
    "# Loading Data"
   ]
  },
  {
   "cell_type": "markdown",
   "id": "25e154e7-0f69-4c52-b56a-811a4748340b",
   "metadata": {
    "execution": {
     "iopub.execute_input": "2023-12-01T09:01:04.188556Z",
     "iopub.status.busy": "2023-12-01T09:01:04.188242Z",
     "iopub.status.idle": "2023-12-01T09:01:04.250083Z",
     "shell.execute_reply": "2023-12-01T09:01:04.249266Z",
     "shell.execute_reply.started": "2023-12-01T09:01:04.188517Z"
    }
   },
   "source": [
    "Load all data from S3 into a Spark dataframe object "
   ]
  },
  {
   "cell_type": "code",
   "execution_count": 6,
   "id": "34886271-8587-411f-a2fc-3f97eeb8862b",
   "metadata": {
    "execution": {
     "iopub.execute_input": "2023-12-01T10:07:48.293827Z",
     "iopub.status.busy": "2023-12-01T10:07:48.293551Z",
     "iopub.status.idle": "2023-12-01T10:07:57.578918Z",
     "shell.execute_reply": "2023-12-01T10:07:57.578193Z",
     "shell.execute_reply.started": "2023-12-01T10:07:48.293793Z"
    },
    "tags": []
   },
   "outputs": [
    {
     "data": {
      "application/vnd.jupyter.widget-view+json": {
       "model_id": "43d4a7972c974b5d86232d3aae2a0b59",
       "version_major": 2,
       "version_minor": 0
      },
      "text/plain": [
       "VBox()"
      ]
     },
     "metadata": {},
     "output_type": "display_data"
    },
    {
     "data": {
      "application/vnd.jupyter.widget-view+json": {
       "model_id": "",
       "version_major": 2,
       "version_minor": 0
      },
      "text/plain": [
       "FloatProgress(value=0.0, bar_style='info', description='Progress:', layout=Layout(height='25px', width='50%'),…"
      ]
     },
     "metadata": {},
     "output_type": "display_data"
    }
   ],
   "source": [
    "actors = spark.read.csv('s3://cis9760-lecture9-movieanalysis/name.basics.tsv',sep=r'\\t',header=True)\n",
    "genres = spark.read.csv('s3://cis9760-lecture9-movieanalysis/title.basics.tsv',sep=r'\\t',header=True)\n",
    "movie_actors = spark.read.csv('s3://cis9760-lecture9-movieanalysis/title.principals.tsv',sep=r'\\t',header=True)\n",
    "ratings = spark.read.csv('s3://cis9760-lecture9-movieanalysis/title.ratings.tsv',sep=r'\\t',header=True)"
   ]
  },
  {
   "cell_type": "markdown",
   "id": "bcfd3c92-7096-4052-b6f5-4f57b277734b",
   "metadata": {},
   "source": [
    "## Actors"
   ]
  },
  {
   "cell_type": "markdown",
   "id": "e30dd1d1-5fc6-4e3a-8654-36def089691a",
   "metadata": {
    "execution": {
     "iopub.execute_input": "2023-12-01T09:02:23.883905Z",
     "iopub.status.busy": "2023-12-01T09:02:23.883668Z",
     "iopub.status.idle": "2023-12-01T09:02:23.934202Z",
     "shell.execute_reply": "2023-12-01T09:02:23.933675Z",
     "shell.execute_reply.started": "2023-12-01T09:02:23.883879Z"
    }
   },
   "source": [
    "Display the schema below:"
   ]
  },
  {
   "cell_type": "code",
   "execution_count": 7,
   "id": "87a7d0b6-7deb-4ddf-9209-e807a7bdb6cb",
   "metadata": {
    "execution": {
     "iopub.execute_input": "2023-12-01T10:08:03.875277Z",
     "iopub.status.busy": "2023-12-01T10:08:03.875061Z",
     "iopub.status.idle": "2023-12-01T10:08:04.125960Z",
     "shell.execute_reply": "2023-12-01T10:08:04.125178Z",
     "shell.execute_reply.started": "2023-12-01T10:08:03.875255Z"
    },
    "tags": []
   },
   "outputs": [
    {
     "data": {
      "application/vnd.jupyter.widget-view+json": {
       "model_id": "27bebf4ba042476d8c5237b6aeb11bcd",
       "version_major": 2,
       "version_minor": 0
      },
      "text/plain": [
       "VBox()"
      ]
     },
     "metadata": {},
     "output_type": "display_data"
    },
    {
     "data": {
      "application/vnd.jupyter.widget-view+json": {
       "model_id": "",
       "version_major": 2,
       "version_minor": 0
      },
      "text/plain": [
       "FloatProgress(value=0.0, bar_style='info', description='Progress:', layout=Layout(height='25px', width='50%'),…"
      ]
     },
     "metadata": {},
     "output_type": "display_data"
    },
    {
     "name": "stdout",
     "output_type": "stream",
     "text": [
      "root\n",
      " |-- nconst: string (nullable = true)\n",
      " |-- primaryName: string (nullable = true)\n",
      " |-- birthYear: string (nullable = true)\n",
      " |-- deathYear: string (nullable = true)\n",
      " |-- primaryProfession: string (nullable = true)\n",
      " |-- knownForTitles: string (nullable = true)"
     ]
    }
   ],
   "source": [
    "actors.printSchema()"
   ]
  },
  {
   "cell_type": "markdown",
   "id": "d640cddc-da07-479f-a6c2-172a0b286d9d",
   "metadata": {},
   "source": [
    "Display the first 5 rows with the following columns:\n",
    "\n",
    "* `primaryName`\n",
    "* `birthYear`\n",
    "* `deathYear`\n",
    "* `knownForTitles`"
   ]
  },
  {
   "cell_type": "code",
   "execution_count": 9,
   "id": "e900b711-f233-4e7c-891d-e55710df1806",
   "metadata": {
    "execution": {
     "iopub.execute_input": "2023-12-01T10:08:17.079308Z",
     "iopub.status.busy": "2023-12-01T10:08:17.079089Z",
     "iopub.status.idle": "2023-12-01T10:08:17.329925Z",
     "shell.execute_reply": "2023-12-01T10:08:17.329165Z",
     "shell.execute_reply.started": "2023-12-01T10:08:17.079286Z"
    },
    "tags": []
   },
   "outputs": [
    {
     "data": {
      "application/vnd.jupyter.widget-view+json": {
       "model_id": "e17b19df9156482c8461299106a7c703",
       "version_major": 2,
       "version_minor": 0
      },
      "text/plain": [
       "VBox()"
      ]
     },
     "metadata": {},
     "output_type": "display_data"
    },
    {
     "data": {
      "application/vnd.jupyter.widget-view+json": {
       "model_id": "",
       "version_major": 2,
       "version_minor": 0
      },
      "text/plain": [
       "FloatProgress(value=0.0, bar_style='info', description='Progress:', layout=Layout(height='25px', width='50%'),…"
      ]
     },
     "metadata": {},
     "output_type": "display_data"
    },
    {
     "name": "stdout",
     "output_type": "stream",
     "text": [
      "+---------------+---------+---------+---------------------------------------+\n",
      "|primaryName    |birthYear|deathYear|knownForTitles                         |\n",
      "+---------------+---------+---------+---------------------------------------+\n",
      "|Fred Astaire   |1899     |1987     |tt0050419,tt0053137,tt0072308,tt0043044|\n",
      "|Lauren Bacall  |1924     |2014     |tt0071877,tt0117057,tt0038355,tt0037382|\n",
      "|Brigitte Bardot|1934     |\\N       |tt0054452,tt0049189,tt0059956,tt0057345|\n",
      "|John Belushi   |1949     |1982     |tt0077975,tt0072562,tt0080455,tt0078723|\n",
      "|Ingmar Bergman |1918     |2007     |tt0069467,tt0050976,tt0083922,tt0050986|\n",
      "+---------------+---------+---------+---------------------------------------+\n",
      "only showing top 5 rows"
     ]
    }
   ],
   "source": [
    "actors.select(\"primaryName\", \"birthYear\", \"deathYear\", \"knownForTitles\").show(5, truncate=False)"
   ]
  },
  {
   "cell_type": "markdown",
   "id": "5a4ad1b9-7c97-4ccb-b440-83355fcff3c6",
   "metadata": {},
   "source": [
    "## Genres"
   ]
  },
  {
   "cell_type": "markdown",
   "id": "7702c1a4-41f0-4365-ac75-b612a6c194c6",
   "metadata": {},
   "source": [
    "Display the first 10 rows with the following columns:\n",
    "    \n",
    "* `titleType`\n",
    "* `primaryTitle`\n",
    "* `genres`"
   ]
  },
  {
   "cell_type": "code",
   "execution_count": 10,
   "id": "443b271a-9bbe-41ad-b9c6-6e2cebd0fb30",
   "metadata": {
    "execution": {
     "iopub.execute_input": "2023-12-01T10:08:21.199627Z",
     "iopub.status.busy": "2023-12-01T10:08:21.199313Z",
     "iopub.status.idle": "2023-12-01T10:08:21.968515Z",
     "shell.execute_reply": "2023-12-01T10:08:21.967829Z",
     "shell.execute_reply.started": "2023-12-01T10:08:21.199593Z"
    },
    "tags": []
   },
   "outputs": [
    {
     "data": {
      "application/vnd.jupyter.widget-view+json": {
       "model_id": "68116e4c8a1a419bb0ad3fcd22593341",
       "version_major": 2,
       "version_minor": 0
      },
      "text/plain": [
       "VBox()"
      ]
     },
     "metadata": {},
     "output_type": "display_data"
    },
    {
     "data": {
      "application/vnd.jupyter.widget-view+json": {
       "model_id": "",
       "version_major": 2,
       "version_minor": 0
      },
      "text/plain": [
       "FloatProgress(value=0.0, bar_style='info', description='Progress:', layout=Layout(height='25px', width='50%'),…"
      ]
     },
     "metadata": {},
     "output_type": "display_data"
    },
    {
     "name": "stdout",
     "output_type": "stream",
     "text": [
      "+---------+-------------------------------------------+------------------------+\n",
      "|titleType|primaryTitle                               |genres                  |\n",
      "+---------+-------------------------------------------+------------------------+\n",
      "|short    |Carmencita                                 |Documentary,Short       |\n",
      "|short    |Le clown et ses chiens                     |Animation,Short         |\n",
      "|short    |Pauvre Pierrot                             |Animation,Comedy,Romance|\n",
      "|short    |Un bon bock                                |Animation,Short         |\n",
      "|short    |Blacksmith Scene                           |Comedy,Short            |\n",
      "|short    |Chinese Opium Den                          |Short                   |\n",
      "|short    |Corbett and Courtney Before the Kinetograph|Short,Sport             |\n",
      "|short    |Edison Kinetoscopic Record of a Sneeze     |Documentary,Short       |\n",
      "|movie    |Miss Jerry                                 |Romance                 |\n",
      "|short    |Exiting the Factory                        |Documentary,Short       |\n",
      "+---------+-------------------------------------------+------------------------+\n",
      "only showing top 10 rows"
     ]
    }
   ],
   "source": [
    "genres.select(\"titleType\", \"primaryTitle\", \"genres\").show(10, truncate=False)"
   ]
  },
  {
   "cell_type": "markdown",
   "id": "a43a15ec-5321-4939-b3bf-78319da09ab4",
   "metadata": {},
   "source": [
    "Display the unique categories below:"
   ]
  },
  {
   "cell_type": "code",
   "execution_count": 11,
   "id": "7154305e-fb63-452a-84ba-2ec7db1e8702",
   "metadata": {
    "execution": {
     "iopub.execute_input": "2023-12-01T10:08:26.539959Z",
     "iopub.status.busy": "2023-12-01T10:08:26.539722Z",
     "iopub.status.idle": "2023-12-01T10:08:35.822890Z",
     "shell.execute_reply": "2023-12-01T10:08:35.822204Z",
     "shell.execute_reply.started": "2023-12-01T10:08:26.539934Z"
    },
    "tags": []
   },
   "outputs": [
    {
     "data": {
      "application/vnd.jupyter.widget-view+json": {
       "model_id": "22f48af91f8043f8bddb560fd7655967",
       "version_major": 2,
       "version_minor": 0
      },
      "text/plain": [
       "VBox()"
      ]
     },
     "metadata": {},
     "output_type": "display_data"
    },
    {
     "data": {
      "application/vnd.jupyter.widget-view+json": {
       "model_id": "",
       "version_major": 2,
       "version_minor": 0
      },
      "text/plain": [
       "FloatProgress(value=0.0, bar_style='info', description='Progress:', layout=Layout(height='25px', width='50%'),…"
      ]
     },
     "metadata": {},
     "output_type": "display_data"
    },
    {
     "name": "stdout",
     "output_type": "stream",
     "text": [
      "+------------+\n",
      "|   titleType|\n",
      "+------------+\n",
      "|    tvSeries|\n",
      "|tvMiniSeries|\n",
      "|       movie|\n",
      "|   videoGame|\n",
      "|   tvSpecial|\n",
      "|       video|\n",
      "|     tvMovie|\n",
      "|   tvEpisode|\n",
      "|     tvShort|\n",
      "|       short|\n",
      "+------------+"
     ]
    }
   ],
   "source": [
    "genres.select(\"titleType\").distinct().show()"
   ]
  },
  {
   "cell_type": "markdown",
   "id": "255d6ec4-aa3a-4b39-9bcc-cdad7dde3572",
   "metadata": {},
   "source": [
    "Display the schema below:"
   ]
  },
  {
   "cell_type": "code",
   "execution_count": 12,
   "id": "1088f1bc-10e6-49a0-8621-414dbb698686",
   "metadata": {
    "execution": {
     "iopub.execute_input": "2023-12-01T10:08:39.139490Z",
     "iopub.status.busy": "2023-12-01T10:08:39.139173Z",
     "iopub.status.idle": "2023-12-01T10:08:39.204945Z",
     "shell.execute_reply": "2023-12-01T10:08:39.204224Z",
     "shell.execute_reply.started": "2023-12-01T10:08:39.139452Z"
    },
    "tags": []
   },
   "outputs": [
    {
     "data": {
      "application/vnd.jupyter.widget-view+json": {
       "model_id": "e506b7b76edc4c06ac5c6f5616d9131e",
       "version_major": 2,
       "version_minor": 0
      },
      "text/plain": [
       "VBox()"
      ]
     },
     "metadata": {},
     "output_type": "display_data"
    },
    {
     "data": {
      "application/vnd.jupyter.widget-view+json": {
       "model_id": "",
       "version_major": 2,
       "version_minor": 0
      },
      "text/plain": [
       "FloatProgress(value=0.0, bar_style='info', description='Progress:', layout=Layout(height='25px', width='50%'),…"
      ]
     },
     "metadata": {},
     "output_type": "display_data"
    },
    {
     "name": "stdout",
     "output_type": "stream",
     "text": [
      "root\n",
      " |-- tconst: string (nullable = true)\n",
      " |-- titleType: string (nullable = true)\n",
      " |-- primaryTitle: string (nullable = true)\n",
      " |-- originalTitle: string (nullable = true)\n",
      " |-- isAdult: string (nullable = true)\n",
      " |-- startYear: string (nullable = true)\n",
      " |-- endYear: string (nullable = true)\n",
      " |-- runtimeMinutes: string (nullable = true)\n",
      " |-- genres: string (nullable = true)"
     ]
    }
   ],
   "source": [
    "genres.printSchema()"
   ]
  },
  {
   "cell_type": "markdown",
   "id": "2086dac8-8e3c-456b-a80b-813401263d2a",
   "metadata": {},
   "source": [
    "## Movie Actors\n"
   ]
  },
  {
   "cell_type": "markdown",
   "id": "d2c3cdcb-53be-48a5-9838-ca655afb7ef2",
   "metadata": {},
   "source": [
    "Display the schema below:"
   ]
  },
  {
   "cell_type": "code",
   "execution_count": 13,
   "id": "419efa1e-d783-4cd9-b204-a6455e937d20",
   "metadata": {
    "execution": {
     "iopub.execute_input": "2023-12-01T10:08:43.322906Z",
     "iopub.status.busy": "2023-12-01T10:08:43.322649Z",
     "iopub.status.idle": "2023-12-01T10:08:43.370272Z",
     "shell.execute_reply": "2023-12-01T10:08:43.369548Z",
     "shell.execute_reply.started": "2023-12-01T10:08:43.322881Z"
    },
    "tags": []
   },
   "outputs": [
    {
     "data": {
      "application/vnd.jupyter.widget-view+json": {
       "model_id": "40e33a5feb40489aaff1182baa7555e0",
       "version_major": 2,
       "version_minor": 0
      },
      "text/plain": [
       "VBox()"
      ]
     },
     "metadata": {},
     "output_type": "display_data"
    },
    {
     "data": {
      "application/vnd.jupyter.widget-view+json": {
       "model_id": "",
       "version_major": 2,
       "version_minor": 0
      },
      "text/plain": [
       "FloatProgress(value=0.0, bar_style='info', description='Progress:', layout=Layout(height='25px', width='50%'),…"
      ]
     },
     "metadata": {},
     "output_type": "display_data"
    },
    {
     "name": "stdout",
     "output_type": "stream",
     "text": [
      "root\n",
      " |-- tconst: string (nullable = true)\n",
      " |-- ordering: string (nullable = true)\n",
      " |-- nconst: string (nullable = true)\n",
      " |-- category: string (nullable = true)\n",
      " |-- job: string (nullable = true)\n",
      " |-- characters: string (nullable = true)"
     ]
    }
   ],
   "source": [
    "movie_actors.printSchema()"
   ]
  },
  {
   "cell_type": "markdown",
   "id": "cc4fe9e6-ca1e-45cf-a11c-182718b6a463",
   "metadata": {},
   "source": [
    "Display the first 10 rows below"
   ]
  },
  {
   "cell_type": "code",
   "execution_count": 14,
   "id": "85507c82-604f-45df-b589-3ba734910f05",
   "metadata": {
    "execution": {
     "iopub.execute_input": "2023-12-01T10:08:46.279684Z",
     "iopub.status.busy": "2023-12-01T10:08:46.279456Z",
     "iopub.status.idle": "2023-12-01T10:08:47.039375Z",
     "shell.execute_reply": "2023-12-01T10:08:47.038651Z",
     "shell.execute_reply.started": "2023-12-01T10:08:46.279660Z"
    },
    "tags": []
   },
   "outputs": [
    {
     "data": {
      "application/vnd.jupyter.widget-view+json": {
       "model_id": "10f957c61c534d56b98fa29c20a5d732",
       "version_major": 2,
       "version_minor": 0
      },
      "text/plain": [
       "VBox()"
      ]
     },
     "metadata": {},
     "output_type": "display_data"
    },
    {
     "data": {
      "application/vnd.jupyter.widget-view+json": {
       "model_id": "",
       "version_major": 2,
       "version_minor": 0
      },
      "text/plain": [
       "FloatProgress(value=0.0, bar_style='info', description='Progress:', layout=Layout(height='25px', width='50%'),…"
      ]
     },
     "metadata": {},
     "output_type": "display_data"
    },
    {
     "name": "stdout",
     "output_type": "stream",
     "text": [
      "+---------+--------+---------+---------------+-----------------------+-----------+\n",
      "|tconst   |ordering|nconst   |category       |job                    |characters |\n",
      "+---------+--------+---------+---------------+-----------------------+-----------+\n",
      "|tt0000001|1       |nm1588970|self           |\\N                     |[\"Herself\"]|\n",
      "|tt0000001|2       |nm0005690|director       |\\N                     |\\N         |\n",
      "|tt0000001|3       |nm0374658|cinematographer|director of photography|\\N         |\n",
      "|tt0000002|1       |nm0721526|director       |\\N                     |\\N         |\n",
      "|tt0000002|2       |nm1335271|composer       |\\N                     |\\N         |\n",
      "|tt0000003|1       |nm0721526|director       |\\N                     |\\N         |\n",
      "|tt0000003|2       |nm5442194|producer       |producer               |\\N         |\n",
      "|tt0000003|3       |nm1335271|composer       |\\N                     |\\N         |\n",
      "|tt0000003|4       |nm5442200|editor         |\\N                     |\\N         |\n",
      "|tt0000004|1       |nm0721526|director       |\\N                     |\\N         |\n",
      "+---------+--------+---------+---------------+-----------------------+-----------+\n",
      "only showing top 10 rows"
     ]
    }
   ],
   "source": [
    "movie_actors.show(10, truncate=False)"
   ]
  },
  {
   "cell_type": "markdown",
   "id": "dd3e2bd0-25dc-4d9b-a83b-ce5d0c0b7ad5",
   "metadata": {},
   "source": [
    "## Movie Ratings"
   ]
  },
  {
   "cell_type": "markdown",
   "id": "a96dfa58-5612-449d-acf7-ac831f108ae2",
   "metadata": {},
   "source": [
    "Display the schema below:"
   ]
  },
  {
   "cell_type": "code",
   "execution_count": 18,
   "id": "60d436d9-4637-4226-999a-0bcae141cf48",
   "metadata": {
    "execution": {
     "iopub.execute_input": "2023-12-01T10:09:20.979034Z",
     "iopub.status.busy": "2023-12-01T10:09:20.978765Z",
     "iopub.status.idle": "2023-12-01T10:09:21.030317Z",
     "shell.execute_reply": "2023-12-01T10:09:21.029544Z",
     "shell.execute_reply.started": "2023-12-01T10:09:20.978995Z"
    },
    "tags": []
   },
   "outputs": [
    {
     "data": {
      "application/vnd.jupyter.widget-view+json": {
       "model_id": "a15e7a04842d4f55b998fc0e686efd87",
       "version_major": 2,
       "version_minor": 0
      },
      "text/plain": [
       "VBox()"
      ]
     },
     "metadata": {},
     "output_type": "display_data"
    },
    {
     "data": {
      "application/vnd.jupyter.widget-view+json": {
       "model_id": "",
       "version_major": 2,
       "version_minor": 0
      },
      "text/plain": [
       "FloatProgress(value=0.0, bar_style='info', description='Progress:', layout=Layout(height='25px', width='50%'),…"
      ]
     },
     "metadata": {},
     "output_type": "display_data"
    },
    {
     "name": "stdout",
     "output_type": "stream",
     "text": [
      "root\n",
      " |-- tconst: string (nullable = true)\n",
      " |-- averageRating: string (nullable = true)\n",
      " |-- numVotes: string (nullable = true)"
     ]
    }
   ],
   "source": [
    "ratings.printSchema()"
   ]
  },
  {
   "cell_type": "markdown",
   "id": "f44eb2bd-0d2b-46a3-bbd2-11b5ebc3c8b3",
   "metadata": {},
   "source": [
    "Display the first 10 rows in a descending order by the number of votes"
   ]
  },
  {
   "cell_type": "code",
   "execution_count": 17,
   "id": "78d68a26-0b34-4887-be84-ad9344130a2c",
   "metadata": {
    "execution": {
     "iopub.execute_input": "2023-12-01T10:09:01.347668Z",
     "iopub.status.busy": "2023-12-01T10:09:01.347395Z",
     "iopub.status.idle": "2023-12-01T10:09:02.611720Z",
     "shell.execute_reply": "2023-12-01T10:09:02.611112Z",
     "shell.execute_reply.started": "2023-12-01T10:09:01.347641Z"
    },
    "tags": []
   },
   "outputs": [
    {
     "data": {
      "application/vnd.jupyter.widget-view+json": {
       "model_id": "8450b30bc39c46d1b7c053a5513da085",
       "version_major": 2,
       "version_minor": 0
      },
      "text/plain": [
       "VBox()"
      ]
     },
     "metadata": {},
     "output_type": "display_data"
    },
    {
     "data": {
      "application/vnd.jupyter.widget-view+json": {
       "model_id": "",
       "version_major": 2,
       "version_minor": 0
      },
      "text/plain": [
       "FloatProgress(value=0.0, bar_style='info', description='Progress:', layout=Layout(height='25px', width='50%'),…"
      ]
     },
     "metadata": {},
     "output_type": "display_data"
    },
    {
     "name": "stdout",
     "output_type": "stream",
     "text": [
      "+---------+-------------+--------+\n",
      "|tconst   |AverageRating|numVotes|\n",
      "+---------+-------------+--------+\n",
      "|tt7430722|6.8          |9999    |\n",
      "|tt4445154|8.1          |9997    |\n",
      "|tt2229907|6.3          |9996    |\n",
      "|tt0294097|8.0          |9994    |\n",
      "|tt0264734|6.5          |9993    |\n",
      "|tt8860450|6.3          |9991    |\n",
      "|tt2032572|5.2          |9991    |\n",
      "|tt0025173|6.6          |999     |\n",
      "|tt0696544|8.2          |999     |\n",
      "|tt0062155|6.9          |999     |\n",
      "+---------+-------------+--------+\n",
      "only showing top 10 rows"
     ]
    }
   ],
   "source": [
    "from pyspark.sql.functions import col\n",
    "\n",
    "ratings.select(\"tconst\", \"AverageRating\", \"numVotes\").sort(col(\"numVotes\").desc()).show(10, truncate=False)"
   ]
  },
  {
   "cell_type": "markdown",
   "id": "1480235c-80b6-4857-96dc-52d344195ce1",
   "metadata": {
    "tags": []
   },
   "source": [
    "# Overview of Data\n"
   ]
  },
  {
   "cell_type": "markdown",
   "id": "7a196f4b-3227-41a6-a5de-772a14c0d863",
   "metadata": {},
   "source": [
    "Display the number of rows and columns in each dataFrame object."
   ]
  },
  {
   "cell_type": "code",
   "execution_count": 19,
   "id": "1a4d3e57-f2b8-4f21-89e4-ca28c2697664",
   "metadata": {
    "execution": {
     "iopub.execute_input": "2023-12-01T10:09:30.960317Z",
     "iopub.status.busy": "2023-12-01T10:09:30.960092Z",
     "iopub.status.idle": "2023-12-01T10:09:48.266945Z",
     "shell.execute_reply": "2023-12-01T10:09:48.266186Z",
     "shell.execute_reply.started": "2023-12-01T10:09:30.960294Z"
    },
    "tags": []
   },
   "outputs": [
    {
     "data": {
      "application/vnd.jupyter.widget-view+json": {
       "model_id": "c8cb0d0bc54147a7ad2d27f9bb2b01b9",
       "version_major": 2,
       "version_minor": 0
      },
      "text/plain": [
       "VBox()"
      ]
     },
     "metadata": {},
     "output_type": "display_data"
    },
    {
     "data": {
      "application/vnd.jupyter.widget-view+json": {
       "model_id": "",
       "version_major": 2,
       "version_minor": 0
      },
      "text/plain": [
       "FloatProgress(value=0.0, bar_style='info', description='Progress:', layout=Layout(height='25px', width='50%'),…"
      ]
     },
     "metadata": {},
     "output_type": "display_data"
    },
    {
     "name": "stdout",
     "output_type": "stream",
     "text": [
      "Number of columns in Actors table: 6\n",
      "Number of rows in Actors table: 9706922\n",
      "Number of columns in Genres table: 9\n",
      "Number of rows in Genres table: 6321302\n",
      "Number of columns in Movie Actors table: 6\n",
      "Number of rows in Movie Actors table: 36468817\n",
      "Number of columns in Movie Ratings table: 3\n",
      "Number of rows in Movie Ratings table: 993153"
     ]
    }
   ],
   "source": [
    "num_columns = len(actors.columns)\n",
    "print(\"Number of columns in Actors table:\", num_columns)\n",
    "num_rows = actors.count()\n",
    "print(\"Number of rows in Actors table:\", num_rows)\n",
    "num_columns = len(genres.columns)\n",
    "print(\"Number of columns in Genres table:\", num_columns)\n",
    "num_rows = genres.count()\n",
    "print(\"Number of rows in Genres table:\", num_rows)\n",
    "num_columns = len(movie_actors.columns)\n",
    "print(\"Number of columns in Movie Actors table:\", num_columns)\n",
    "num_rows = movie_actors.count()\n",
    "print(\"Number of rows in Movie Actors table:\", num_rows)\n",
    "num_columns = len(ratings.columns)\n",
    "print(\"Number of columns in Movie Ratings table:\", num_columns)\n",
    "num_rows = ratings.count()\n",
    "print(\"Number of rows in Movie Ratings table:\", num_rows)"
   ]
  },
  {
   "cell_type": "markdown",
   "id": "1bbf9195-4654-423c-acc2-66bf210c8dbe",
   "metadata": {},
   "source": [
    "# PART 2 - Analyzing Genres"
   ]
  },
  {
   "cell_type": "markdown",
   "id": "97461411-8885-4b26-8cfb-b421571b7c1c",
   "metadata": {},
   "source": [
    "Let's now answer this question: how many unique genres are represented in this dataset?\n",
    "\n",
    "Essentially, we have the genres per movie as a list - this is useful to quickly see what each movie might be represented as but it is difficult to easily answer questions such as:\n",
    "\n",
    "* How many movies are categorized as Comedy, for instance?\n",
    "* What are the top 20 most popular genres available?"
   ]
  },
  {
   "cell_type": "markdown",
   "id": "74e663ec-9d9e-408d-9ba1-c00e93a566b5",
   "metadata": {},
   "source": [
    "## Association Table\n",
    "\n",
    "We need to \"break out\" these genres from the tconst? One common approach to take is to build an association table mapping a single tconst multiple times to each distinct genre.\n",
    "\n",
    "For instance, given the following:\n",
    "\n",
    "\n",
    "| tconst   | titleType  |genres |\n",
    "|----------|------------|-------|\n",
    "| abcd123  | XXX        |a,b,c  |\n",
    "\n",
    "We would like to derive something like:\n",
    "\n",
    "| tconst   |  titleType |genre |\n",
    "|----------|------------|------|\n",
    "| abcd123  | XXX        |a     |\n",
    "| abcd123  | XXX        |b     |\n",
    "| abcd123  | XXX        |c     |\n",
    "\n",
    "\n",
    "What this does is allow us to then perform a myriad of rollups and other analysis on this association table which can aid us in answering the questions asked above.\n",
    "\n",
    "Implement the code necessary to derive the table described from the data set"
   ]
  },
  {
   "cell_type": "code",
   "execution_count": 20,
   "id": "9343871b-e213-4322-98be-a3b10be6ec4e",
   "metadata": {
    "execution": {
     "iopub.execute_input": "2023-12-01T10:09:54.044870Z",
     "iopub.status.busy": "2023-12-01T10:09:54.044649Z",
     "iopub.status.idle": "2023-12-01T10:09:54.304146Z",
     "shell.execute_reply": "2023-12-01T10:09:54.303383Z",
     "shell.execute_reply.started": "2023-12-01T10:09:54.044846Z"
    },
    "tags": []
   },
   "outputs": [
    {
     "data": {
      "application/vnd.jupyter.widget-view+json": {
       "model_id": "57cbe5625b254e1981207854d187f283",
       "version_major": 2,
       "version_minor": 0
      },
      "text/plain": [
       "VBox()"
      ]
     },
     "metadata": {},
     "output_type": "display_data"
    },
    {
     "data": {
      "application/vnd.jupyter.widget-view+json": {
       "model_id": "",
       "version_major": 2,
       "version_minor": 0
      },
      "text/plain": [
       "FloatProgress(value=0.0, bar_style='info', description='Progress:', layout=Layout(height='25px', width='50%'),…"
      ]
     },
     "metadata": {},
     "output_type": "display_data"
    },
    {
     "name": "stdout",
     "output_type": "stream",
     "text": [
      "+---------+---------+------------------------+\n",
      "|tconst   |titleType|genres                  |\n",
      "+---------+---------+------------------------+\n",
      "|tt0000001|short    |Documentary,Short       |\n",
      "|tt0000002|short    |Animation,Short         |\n",
      "|tt0000003|short    |Animation,Comedy,Romance|\n",
      "|tt0000004|short    |Animation,Short         |\n",
      "|tt0000005|short    |Comedy,Short            |\n",
      "+---------+---------+------------------------+\n",
      "only showing top 5 rows"
     ]
    }
   ],
   "source": [
    "genres.select(\"tconst\", \"titleType\", \"genres\").show(5, truncate=False)"
   ]
  },
  {
   "cell_type": "markdown",
   "id": "1305f26c-ea3f-4e88-b2db-6a3ac66bb7ff",
   "metadata": {},
   "source": [
    "Display the first 10 rows of your association table below"
   ]
  },
  {
   "cell_type": "code",
   "execution_count": 21,
   "id": "1145a872-c0c4-41ce-83c6-485d5b60ca95",
   "metadata": {
    "execution": {
     "iopub.execute_input": "2023-12-01T10:09:59.073295Z",
     "iopub.status.busy": "2023-12-01T10:09:59.073041Z",
     "iopub.status.idle": "2023-12-01T10:09:59.830289Z",
     "shell.execute_reply": "2023-12-01T10:09:59.829394Z",
     "shell.execute_reply.started": "2023-12-01T10:09:59.073258Z"
    },
    "tags": []
   },
   "outputs": [
    {
     "data": {
      "application/vnd.jupyter.widget-view+json": {
       "model_id": "83defe467bca4cfdb52f106f702c12f6",
       "version_major": 2,
       "version_minor": 0
      },
      "text/plain": [
       "VBox()"
      ]
     },
     "metadata": {},
     "output_type": "display_data"
    },
    {
     "data": {
      "application/vnd.jupyter.widget-view+json": {
       "model_id": "",
       "version_major": 2,
       "version_minor": 0
      },
      "text/plain": [
       "FloatProgress(value=0.0, bar_style='info', description='Progress:', layout=Layout(height='25px', width='50%'),…"
      ]
     },
     "metadata": {},
     "output_type": "display_data"
    },
    {
     "name": "stdout",
     "output_type": "stream",
     "text": [
      "+---------+---------+-----------+\n",
      "|tconst   |titleType|genres     |\n",
      "+---------+---------+-----------+\n",
      "|tt0000001|short    |Documentary|\n",
      "|tt0000001|short    |Short      |\n",
      "|tt0000002|short    |Animation  |\n",
      "|tt0000002|short    |Short      |\n",
      "|tt0000003|short    |Animation  |\n",
      "|tt0000003|short    |Comedy     |\n",
      "|tt0000003|short    |Romance    |\n",
      "|tt0000004|short    |Animation  |\n",
      "|tt0000004|short    |Short      |\n",
      "|tt0000005|short    |Comedy     |\n",
      "+---------+---------+-----------+\n",
      "only showing top 10 rows"
     ]
    }
   ],
   "source": [
    "from pyspark.sql.functions import explode, split\n",
    "association_table = genres.withColumn(\"genres\", explode(split(\"genres\", ','))) \\\n",
    "    .select(\"tconst\", \"titleType\" ,\"genres\")\n",
    "\n",
    "association_table.show(10, truncate=False)"
   ]
  },
  {
   "cell_type": "markdown",
   "id": "abfb065d-7fbe-4088-a52f-bc582288c47c",
   "metadata": {
    "tags": []
   },
   "source": [
    "## Total Unique Genres"
   ]
  },
  {
   "cell_type": "markdown",
   "id": "2c17cd95-f956-4582-b120-318af6bcaf1e",
   "metadata": {},
   "source": [
    "**What is the total number of unique genres available in the movie category?**"
   ]
  },
  {
   "cell_type": "code",
   "execution_count": 22,
   "id": "9978a208-8e7d-4d3b-b2c6-70cf5a54a868",
   "metadata": {
    "execution": {
     "iopub.execute_input": "2023-12-01T10:10:17.787275Z",
     "iopub.status.busy": "2023-12-01T10:10:17.787002Z",
     "iopub.status.idle": "2023-12-01T10:10:27.068398Z",
     "shell.execute_reply": "2023-12-01T10:10:27.067655Z",
     "shell.execute_reply.started": "2023-12-01T10:10:17.787237Z"
    },
    "tags": []
   },
   "outputs": [
    {
     "data": {
      "application/vnd.jupyter.widget-view+json": {
       "model_id": "4810778af5c5487584008bc56d4abc7d",
       "version_major": 2,
       "version_minor": 0
      },
      "text/plain": [
       "VBox()"
      ]
     },
     "metadata": {},
     "output_type": "display_data"
    },
    {
     "data": {
      "application/vnd.jupyter.widget-view+json": {
       "model_id": "",
       "version_major": 2,
       "version_minor": 0
      },
      "text/plain": [
       "FloatProgress(value=0.0, bar_style='info', description='Progress:', layout=Layout(height='25px', width='50%'),…"
      ]
     },
     "metadata": {},
     "output_type": "display_data"
    },
    {
     "name": "stdout",
     "output_type": "stream",
     "text": [
      "29"
     ]
    }
   ],
   "source": [
    "association_table.select(\"genres\") \\\n",
    "    .distinct() \\\n",
    "    .count()"
   ]
  },
  {
   "cell_type": "markdown",
   "id": "5bc832e0-86dd-4d25-bf55-6a2da8bd9650",
   "metadata": {},
   "source": [
    "**What are the unique genres available?**"
   ]
  },
  {
   "cell_type": "code",
   "execution_count": 23,
   "id": "dc6fcfdc-880e-4d04-b87a-b4a68caaa5d7",
   "metadata": {
    "execution": {
     "iopub.execute_input": "2023-12-01T10:10:29.214680Z",
     "iopub.status.busy": "2023-12-01T10:10:29.214467Z",
     "iopub.status.idle": "2023-12-01T10:10:38.498251Z",
     "shell.execute_reply": "2023-12-01T10:10:38.497609Z",
     "shell.execute_reply.started": "2023-12-01T10:10:29.214658Z"
    },
    "tags": []
   },
   "outputs": [
    {
     "data": {
      "application/vnd.jupyter.widget-view+json": {
       "model_id": "e02a4c52aaae4238a81fbe3b3f068b66",
       "version_major": 2,
       "version_minor": 0
      },
      "text/plain": [
       "VBox()"
      ]
     },
     "metadata": {},
     "output_type": "display_data"
    },
    {
     "data": {
      "application/vnd.jupyter.widget-view+json": {
       "model_id": "",
       "version_major": 2,
       "version_minor": 0
      },
      "text/plain": [
       "FloatProgress(value=0.0, bar_style='info', description='Progress:', layout=Layout(height='25px', width='50%'),…"
      ]
     },
     "metadata": {},
     "output_type": "display_data"
    },
    {
     "name": "stdout",
     "output_type": "stream",
     "text": [
      "+-----------+\n",
      "|     genres|\n",
      "+-----------+\n",
      "|    Mystery|\n",
      "|    Musical|\n",
      "|      Sport|\n",
      "|     Action|\n",
      "|  Talk-Show|\n",
      "|    Romance|\n",
      "|   Thriller|\n",
      "|         \\N|\n",
      "| Reality-TV|\n",
      "|     Family|\n",
      "|    Fantasy|\n",
      "|    History|\n",
      "|  Animation|\n",
      "|  Film-Noir|\n",
      "|      Short|\n",
      "|     Sci-Fi|\n",
      "|       News|\n",
      "|      Drama|\n",
      "|Documentary|\n",
      "|    Western|\n",
      "+-----------+\n",
      "only showing top 20 rows"
     ]
    }
   ],
   "source": [
    "association_table.select(\"genres\") \\\n",
    "    .distinct() \\\n",
    "    .show()"
   ]
  },
  {
   "cell_type": "markdown",
   "id": "d9371608-7c53-4101-a6f5-cd775c3429a9",
   "metadata": {},
   "source": [
    "**Oops! Something is off!**"
   ]
  },
  {
   "cell_type": "code",
   "execution_count": 24,
   "id": "0ebf6c1e-532b-4605-9055-6369e5f217bc",
   "metadata": {
    "execution": {
     "iopub.execute_input": "2023-12-01T10:10:42.544424Z",
     "iopub.status.busy": "2023-12-01T10:10:42.544175Z",
     "iopub.status.idle": "2023-12-01T10:10:51.842086Z",
     "shell.execute_reply": "2023-12-01T10:10:51.841399Z",
     "shell.execute_reply.started": "2023-12-01T10:10:42.544397Z"
    },
    "tags": []
   },
   "outputs": [
    {
     "data": {
      "application/vnd.jupyter.widget-view+json": {
       "model_id": "6d753b48b6de414ab252037d239810e5",
       "version_major": 2,
       "version_minor": 0
      },
      "text/plain": [
       "VBox()"
      ]
     },
     "metadata": {},
     "output_type": "display_data"
    },
    {
     "data": {
      "application/vnd.jupyter.widget-view+json": {
       "model_id": "",
       "version_major": 2,
       "version_minor": 0
      },
      "text/plain": [
       "FloatProgress(value=0.0, bar_style='info', description='Progress:', layout=Layout(height='25px', width='50%'),…"
      ]
     },
     "metadata": {},
     "output_type": "display_data"
    },
    {
     "name": "stdout",
     "output_type": "stream",
     "text": [
      "+-----------+\n",
      "|     genres|\n",
      "+-----------+\n",
      "|    Mystery|\n",
      "|    Musical|\n",
      "|      Sport|\n",
      "|     Action|\n",
      "|  Talk-Show|\n",
      "|    Romance|\n",
      "|   Thriller|\n",
      "| Reality-TV|\n",
      "|     Family|\n",
      "|    Fantasy|\n",
      "|    History|\n",
      "|  Animation|\n",
      "|  Film-Noir|\n",
      "|      Short|\n",
      "|     Sci-Fi|\n",
      "|       News|\n",
      "|      Drama|\n",
      "|Documentary|\n",
      "|    Western|\n",
      "|     Comedy|\n",
      "+-----------+\n",
      "only showing top 20 rows"
     ]
    }
   ],
   "source": [
    "from pyspark.sql.functions import col\n",
    "\n",
    "nll = '\\\\N'\n",
    "association_table.select(\"genres\") \\\n",
    "    .filter(col(\"genres\") != nll) \\\n",
    "    .distinct() \\\n",
    "    .show()"
   ]
  },
  {
   "cell_type": "markdown",
   "id": "5db574f2-41a5-4af2-9af3-ace4c770c4f4",
   "metadata": {},
   "source": [
    "## Top Genres by Movies\n",
    "\n",
    "Now let's find the highest rated genres in this dataset by rolling up genres."
   ]
  },
  {
   "cell_type": "markdown",
   "id": "5c1fdd9d-01be-48cf-8ee4-639037c6adc5",
   "metadata": {
    "tags": []
   },
   "source": [
    "### Average Rating / Genre"
   ]
  },
  {
   "cell_type": "markdown",
   "id": "1dc9e02b-903c-4a53-a340-b20da2c818f1",
   "metadata": {},
   "source": [
    "So now, let's unroll our distinct count a bit and display the per average rating value of per genre.\n",
    "\n",
    "The expected output should be:\n",
    "\n",
    "| genre | averageRating |\n",
    "|-------------|------------|\n",
    "| a     | 8.5         |\n",
    "| b     | 6.3         |\n",
    "| c     | 7.2         |\n",
    "\n",
    "Or something to that effect."
   ]
  },
  {
   "cell_type": "markdown",
   "id": "e4289df5-e3b7-4c36-b099-2bd7d1724111",
   "metadata": {},
   "source": [
    "First, let's join our two dataframes (movie ratings and genres) by tconst"
   ]
  },
  {
   "cell_type": "code",
   "execution_count": 25,
   "id": "819be8fe-e3bd-4f2b-bb01-f3d456c4fa72",
   "metadata": {
    "execution": {
     "iopub.execute_input": "2023-12-01T10:10:57.212390Z",
     "iopub.status.busy": "2023-12-01T10:10:57.212164Z",
     "iopub.status.idle": "2023-12-01T10:11:10.526069Z",
     "shell.execute_reply": "2023-12-01T10:11:10.525406Z",
     "shell.execute_reply.started": "2023-12-01T10:10:57.212366Z"
    },
    "tags": []
   },
   "outputs": [
    {
     "data": {
      "application/vnd.jupyter.widget-view+json": {
       "model_id": "43b2869857d54f4f881270bc1c4aa39e",
       "version_major": 2,
       "version_minor": 0
      },
      "text/plain": [
       "VBox()"
      ]
     },
     "metadata": {},
     "output_type": "display_data"
    },
    {
     "data": {
      "application/vnd.jupyter.widget-view+json": {
       "model_id": "",
       "version_major": 2,
       "version_minor": 0
      },
      "text/plain": [
       "FloatProgress(value=0.0, bar_style='info', description='Progress:', layout=Layout(height='25px', width='50%'),…"
      ]
     },
     "metadata": {},
     "output_type": "display_data"
    },
    {
     "name": "stdout",
     "output_type": "stream",
     "text": [
      "+---------+-------------+\n",
      "|   genres|averageRating|\n",
      "+---------+-------------+\n",
      "|Animation|          6.4|\n",
      "|    Short|          6.4|\n",
      "|    Drama|          7.1|\n",
      "|    Short|          7.1|\n",
      "|   Action|          5.9|\n",
      "|  Fantasy|          6.4|\n",
      "|   Horror|          6.4|\n",
      "|   Comedy|          7.0|\n",
      "|   Horror|          7.0|\n",
      "|    Short|          7.0|\n",
      "+---------+-------------+\n",
      "only showing top 10 rows"
     ]
    }
   ],
   "source": [
    "import pyspark.sql.functions as F\n",
    "\n",
    "join_table = ratings.join(association_table, \"tconst\").filter(col('genres') != \"\\\\N\")\n",
    "join_table.select(\"genres\", \"averageRating\") \\\n",
    "    .show(10)                          "
   ]
  },
  {
   "cell_type": "markdown",
   "id": "f3aa0958-fdcf-4fa3-907e-4f73681243c6",
   "metadata": {},
   "source": [
    "Now, let's aggregate along the averageRating column to get a resultant dataframe that displays average rating per genre."
   ]
  },
  {
   "cell_type": "code",
   "execution_count": 26,
   "id": "439f454c-93e2-424c-b838-1a419d88b9bf",
   "metadata": {
    "execution": {
     "iopub.execute_input": "2023-12-01T10:11:12.929544Z",
     "iopub.status.busy": "2023-12-01T10:11:12.929299Z",
     "iopub.status.idle": "2023-12-01T10:11:20.205774Z",
     "shell.execute_reply": "2023-12-01T10:11:20.204840Z",
     "shell.execute_reply.started": "2023-12-01T10:11:12.929516Z"
    },
    "tags": []
   },
   "outputs": [
    {
     "data": {
      "application/vnd.jupyter.widget-view+json": {
       "model_id": "03b297762e0d491db079837d7d86e9ab",
       "version_major": 2,
       "version_minor": 0
      },
      "text/plain": [
       "VBox()"
      ]
     },
     "metadata": {},
     "output_type": "display_data"
    },
    {
     "data": {
      "application/vnd.jupyter.widget-view+json": {
       "model_id": "",
       "version_major": 2,
       "version_minor": 0
      },
      "text/plain": [
       "FloatProgress(value=0.0, bar_style='info', description='Progress:', layout=Layout(height='25px', width='50%'),…"
      ]
     },
     "metadata": {},
     "output_type": "display_data"
    },
    {
     "name": "stdout",
     "output_type": "stream",
     "text": [
      "28"
     ]
    }
   ],
   "source": [
    "from pyspark.sql.functions import col\n",
    "\n",
    "nll = '\\\\N'\n",
    "association_table.select(\"genres\") \\\n",
    "    .filter(col(\"genres\") != nll) \\\n",
    "    .distinct() \\\n",
    "    .count()"
   ]
  },
  {
   "cell_type": "markdown",
   "id": "ab4c5506-e7bd-458f-b1f5-1c0cc07b025f",
   "metadata": {
    "tags": []
   },
   "source": [
    "### Horizontal Bar Chart of Top Genres\n",
    "\n",
    "With this data available, let us now build a barchart of all genres \n",
    "\n",
    "**HINT**: don't forget about the matplotlib magic!\n",
    "\n",
    "```\n",
    "%matplot plt\n",
    "```"
   ]
  },
  {
   "cell_type": "code",
   "execution_count": 28,
   "id": "d96f2ef7-32e5-4d4c-8c54-7f2c7ee34623",
   "metadata": {
    "execution": {
     "iopub.execute_input": "2023-12-01T10:12:03.122651Z",
     "iopub.status.busy": "2023-12-01T10:12:03.122429Z",
     "iopub.status.idle": "2023-12-01T10:12:16.422306Z",
     "shell.execute_reply": "2023-12-01T10:12:16.421556Z",
     "shell.execute_reply.started": "2023-12-01T10:12:03.122628Z"
    },
    "tags": []
   },
   "outputs": [
    {
     "data": {
      "application/vnd.jupyter.widget-view+json": {
       "model_id": "9e94c9ce4ba249bd95b3379c07c02620",
       "version_major": 2,
       "version_minor": 0
      },
      "text/plain": [
       "VBox()"
      ]
     },
     "metadata": {},
     "output_type": "display_data"
    },
    {
     "data": {
      "application/vnd.jupyter.widget-view+json": {
       "model_id": "",
       "version_major": 2,
       "version_minor": 0
      },
      "text/plain": [
       "FloatProgress(value=0.0, bar_style='info', description='Progress:', layout=Layout(height='25px', width='50%'),…"
      ]
     },
     "metadata": {},
     "output_type": "display_data"
    },
    {
     "name": "stdout",
     "output_type": "stream",
     "text": [
      "+-----------+------------------+\n",
      "|     genres|        avg_rating|\n",
      "+-----------+------------------+\n",
      "|     Action|  6.95102943855904|\n",
      "|      Adult|  6.33105311042875|\n",
      "|  Adventure| 7.056730172085654|\n",
      "|  Animation| 7.046786054557056|\n",
      "|  Biography| 7.180114830573639|\n",
      "|     Comedy| 6.919198961910334|\n",
      "|      Crime|   7.1650083495686|\n",
      "|Documentary|7.2417405764966745|\n",
      "|      Drama| 7.018453629522856|\n",
      "|     Family| 6.989731258092649|\n",
      "|    Fantasy| 7.093731229320441|\n",
      "|  Film-Noir| 6.636246786632391|\n",
      "|  Game-Show| 6.679023700035374|\n",
      "|    History| 7.304633656741387|\n",
      "|     Horror| 6.033531731630014|\n",
      "|      Music|6.8905722377153715|\n",
      "|    Musical| 6.544660194174757|\n",
      "|    Mystery| 7.215679885737241|\n",
      "|       News| 6.467539496781745|\n",
      "| Reality-TV| 6.838867003894538|\n",
      "+-----------+------------------+\n",
      "only showing top 20 rows"
     ]
    }
   ],
   "source": [
    "average_ratings = join_table.groupBy('genres').agg(F.avg('averageRating').alias('avg_rating')).orderBy('genres')\n",
    "average_ratings.show()"
   ]
  },
  {
   "cell_type": "code",
   "execution_count": 29,
   "id": "0959f8ad-c3f7-4d26-96f5-3141d7603933",
   "metadata": {
    "execution": {
     "iopub.execute_input": "2023-12-01T10:12:41.567674Z",
     "iopub.status.busy": "2023-12-01T10:12:41.567447Z",
     "iopub.status.idle": "2023-12-01T10:12:55.420397Z",
     "shell.execute_reply": "2023-12-01T10:12:55.406804Z",
     "shell.execute_reply.started": "2023-12-01T10:12:41.567651Z"
    },
    "tags": []
   },
   "outputs": [
    {
     "data": {
      "application/vnd.jupyter.widget-view+json": {
       "model_id": "8309047a7d0e481385976491453be5a9",
       "version_major": 2,
       "version_minor": 0
      },
      "text/plain": [
       "VBox()"
      ]
     },
     "metadata": {},
     "output_type": "display_data"
    },
    {
     "data": {
      "application/vnd.jupyter.widget-view+json": {
       "model_id": "",
       "version_major": 2,
       "version_minor": 0
      },
      "text/plain": [
       "FloatProgress(value=0.0, bar_style='info', description='Progress:', layout=Layout(height='25px', width='50%'),…"
      ]
     },
     "metadata": {},
     "output_type": "display_data"
    },
    {
     "data": {
      "image/png": "[encoded data removed]",
      "text/plain": [
       "<IPython.core.display.Image object>"
      ]
     },
     "metadata": {},
     "output_type": "display_data"
    }
   ],
   "source": [
    "import pandas as pd\n",
    "import matplotlib.pyplot as plt\n",
    "\n",
    "average_ratings = join_table.groupBy('genres').agg(F.avg('averageRating').alias('avg_rating')).orderBy('genres')\n",
    "average_ratings_pd = average_ratings.select('genres', 'avg_rating').toPandas() \n",
    "\n",
    "top_genres = average_ratings_pd.sort_values(by='avg_rating', ascending=True)\n",
    "\n",
    "# Create the bar chart\n",
    "fig, ax = plt.subplots(figsize=(10, 8))\n",
    "ax.barh(top_genres['genres'], top_genres['avg_rating'], color='purple')\n",
    "\n",
    "# Set the chart title and labels\n",
    "ax.set_title('Top Genres in the Movie Category')\n",
    "ax.set_xlabel('Average Rating')\n",
    "ax.set_ylabel('Genres')\n",
    "ax.invert_yaxis()\n",
    "\n",
    "%matplot plt\n"
   ]
  },
  {
   "cell_type": "markdown",
   "id": "1b216556-0f38-4ce1-ac0f-26b038958291",
   "metadata": {},
   "source": [
    "## PART 3 - Analyzing Job Categories"
   ]
  },
  {
   "cell_type": "markdown",
   "id": "83095886-8af2-4e2e-91f7-0ec28e6d96fa",
   "metadata": {},
   "source": [
    "## Total Unique Job Categories"
   ]
  },
  {
   "cell_type": "markdown",
   "id": "be5eef39-3655-41d7-9e7b-70f3935ce3d2",
   "metadata": {},
   "source": [
    "**What is the total number of unique job categories?**"
   ]
  },
  {
   "cell_type": "code",
   "execution_count": 30,
   "id": "e45adcdf-5e64-496f-b71a-a316115b3d72",
   "metadata": {
    "execution": {
     "iopub.execute_input": "2023-12-01T10:13:07.528446Z",
     "iopub.status.busy": "2023-12-01T10:13:07.528219Z",
     "iopub.status.idle": "2023-12-01T10:13:07.784475Z",
     "shell.execute_reply": "2023-12-01T10:13:07.783781Z",
     "shell.execute_reply.started": "2023-12-01T10:13:07.528422Z"
    },
    "tags": []
   },
   "outputs": [
    {
     "data": {
      "application/vnd.jupyter.widget-view+json": {
       "model_id": "876453041a724d03b33a8aacf031253e",
       "version_major": 2,
       "version_minor": 0
      },
      "text/plain": [
       "VBox()"
      ]
     },
     "metadata": {},
     "output_type": "display_data"
    },
    {
     "data": {
      "application/vnd.jupyter.widget-view+json": {
       "model_id": "",
       "version_major": 2,
       "version_minor": 0
      },
      "text/plain": [
       "FloatProgress(value=0.0, bar_style='info', description='Progress:', layout=Layout(height='25px', width='50%'),…"
      ]
     },
     "metadata": {},
     "output_type": "display_data"
    },
    {
     "name": "stdout",
     "output_type": "stream",
     "text": [
      "+---------+---------------+\n",
      "|tconst   |category       |\n",
      "+---------+---------------+\n",
      "|tt0000001|self           |\n",
      "|tt0000001|director       |\n",
      "|tt0000001|cinematographer|\n",
      "|tt0000002|director       |\n",
      "|tt0000002|composer       |\n",
      "+---------+---------------+\n",
      "only showing top 5 rows"
     ]
    }
   ],
   "source": [
    "movie_actors.select(\"tconst\", \"category\").show(5, truncate=False)"
   ]
  },
  {
   "cell_type": "code",
   "execution_count": 31,
   "id": "16c3e0e5-bc16-46c0-af7f-157ffe100942",
   "metadata": {
    "execution": {
     "iopub.execute_input": "2023-12-01T10:13:09.584664Z",
     "iopub.status.busy": "2023-12-01T10:13:09.584422Z",
     "iopub.status.idle": "2023-12-01T10:13:34.923719Z",
     "shell.execute_reply": "2023-12-01T10:13:34.923060Z",
     "shell.execute_reply.started": "2023-12-01T10:13:09.584639Z"
    },
    "tags": []
   },
   "outputs": [
    {
     "data": {
      "application/vnd.jupyter.widget-view+json": {
       "model_id": "c5f6616cc5714782aec95d672f15cf8a",
       "version_major": 2,
       "version_minor": 0
      },
      "text/plain": [
       "VBox()"
      ]
     },
     "metadata": {},
     "output_type": "display_data"
    },
    {
     "data": {
      "application/vnd.jupyter.widget-view+json": {
       "model_id": "",
       "version_major": 2,
       "version_minor": 0
      },
      "text/plain": [
       "FloatProgress(value=0.0, bar_style='info', description='Progress:', layout=Layout(height='25px', width='50%'),…"
      ]
     },
     "metadata": {},
     "output_type": "display_data"
    },
    {
     "name": "stdout",
     "output_type": "stream",
     "text": [
      "12"
     ]
    }
   ],
   "source": [
    "movie_actors.select(\"category\") \\\n",
    "    .distinct() \\\n",
    "    .count()"
   ]
  },
  {
   "cell_type": "markdown",
   "id": "7167702b-d9bb-4836-8caa-02615c9decd3",
   "metadata": {},
   "source": [
    "**What are the unique job categories available?**"
   ]
  },
  {
   "cell_type": "code",
   "execution_count": 32,
   "id": "11a07a39-dc92-4617-a59c-008efd347acf",
   "metadata": {
    "execution": {
     "iopub.execute_input": "2023-12-01T10:13:38.322597Z",
     "iopub.status.busy": "2023-12-01T10:13:38.322371Z",
     "iopub.status.idle": "2023-12-01T10:14:03.649038Z",
     "shell.execute_reply": "2023-12-01T10:14:03.648217Z",
     "shell.execute_reply.started": "2023-12-01T10:13:38.322575Z"
    },
    "tags": []
   },
   "outputs": [
    {
     "data": {
      "application/vnd.jupyter.widget-view+json": {
       "model_id": "39092a0751d0495e89b14883a43a65c6",
       "version_major": 2,
       "version_minor": 0
      },
      "text/plain": [
       "VBox()"
      ]
     },
     "metadata": {},
     "output_type": "display_data"
    },
    {
     "data": {
      "application/vnd.jupyter.widget-view+json": {
       "model_id": "",
       "version_major": 2,
       "version_minor": 0
      },
      "text/plain": [
       "FloatProgress(value=0.0, bar_style='info', description='Progress:', layout=Layout(height='25px', width='50%'),…"
      ]
     },
     "metadata": {},
     "output_type": "display_data"
    },
    {
     "name": "stdout",
     "output_type": "stream",
     "text": [
      "+-------------------+\n",
      "|           category|\n",
      "+-------------------+\n",
      "|            actress|\n",
      "|           producer|\n",
      "|production_designer|\n",
      "|             writer|\n",
      "|              actor|\n",
      "|    cinematographer|\n",
      "|      archive_sound|\n",
      "|    archive_footage|\n",
      "|               self|\n",
      "|             editor|\n",
      "|           composer|\n",
      "|           director|\n",
      "+-------------------+"
     ]
    }
   ],
   "source": [
    "movie_actors.select(\"category\") \\\n",
    "    .distinct() \\\n",
    "    .show()"
   ]
  },
  {
   "cell_type": "markdown",
   "id": "8af7ed01-172c-4acb-8279-15cba3a2d141",
   "metadata": {},
   "source": [
    "## Top Job Categories"
   ]
  },
  {
   "cell_type": "markdown",
   "id": "a5882876-2654-4dd0-95f3-8d1be788799b",
   "metadata": {},
   "source": [
    "Now let's find the top job categories in this dataset by rolling up categories."
   ]
  },
  {
   "cell_type": "markdown",
   "id": "b40b7b9e-1d6c-4357-8ddc-96a0ad2aad58",
   "metadata": {},
   "source": [
    "### Counts of Titles / Job Category"
   ]
  },
  {
   "cell_type": "markdown",
   "id": "e95c12ff-861d-46cf-a46f-e883ebedc701",
   "metadata": {},
   "source": [
    "The expected output should be:\n",
    "\n",
    "| category | count |\n",
    "|-------------|------------|\n",
    "| a     | 15         |\n",
    "| b     | 2          |\n",
    "| c     | 45          |\n",
    "\n",
    "Or something to that effect."
   ]
  },
  {
   "cell_type": "code",
   "execution_count": 34,
   "id": "09af6fdd-c790-4c29-ab2a-9fbe7539fc5b",
   "metadata": {
    "execution": {
     "iopub.execute_input": "2023-12-01T10:15:10.029497Z",
     "iopub.status.busy": "2023-12-01T10:15:10.029252Z",
     "iopub.status.idle": "2023-12-01T10:15:59.413919Z",
     "shell.execute_reply": "2023-12-01T10:15:59.413243Z",
     "shell.execute_reply.started": "2023-12-01T10:15:10.029448Z"
    },
    "tags": []
   },
   "outputs": [
    {
     "data": {
      "application/vnd.jupyter.widget-view+json": {
       "model_id": "383dab8b94a749cf876dfaa838ef00b0",
       "version_major": 2,
       "version_minor": 0
      },
      "text/plain": [
       "VBox()"
      ]
     },
     "metadata": {},
     "output_type": "display_data"
    },
    {
     "data": {
      "application/vnd.jupyter.widget-view+json": {
       "model_id": "",
       "version_major": 2,
       "version_minor": 0
      },
      "text/plain": [
       "FloatProgress(value=0.0, bar_style='info', description='Progress:', layout=Layout(height='25px', width='50%'),…"
      ]
     },
     "metadata": {},
     "output_type": "display_data"
    },
    {
     "name": "stdout",
     "output_type": "stream",
     "text": [
      "+-------------------+-------+\n",
      "|           category|  count|\n",
      "+-------------------+-------+\n",
      "|            actress|6325097|\n",
      "|           producer|2197866|\n",
      "|production_designer| 285924|\n",
      "|             writer|4811596|\n",
      "|              actor|8493701|\n",
      "|    cinematographer|1300404|\n",
      "|      archive_sound|   2143|\n",
      "|    archive_footage| 209035|\n",
      "|               self|6153089|\n",
      "|             editor|1197669|\n",
      "|           composer|1313187|\n",
      "|           director|4179106|\n",
      "+-------------------+-------+"
     ]
    }
   ],
   "source": [
    "from pyspark.sql.functions import count\n",
    "\n",
    "DFmovie_actors = movie_actors.groupby('category').agg(count(\"category\").alias(\"count\"))\n",
    "DFmovie_actors_pd = DFmovie_actors.toPandas()\n",
    "DFmovie_actors.show()"
   ]
  },
  {
   "cell_type": "markdown",
   "id": "0042f5a8-7e59-484f-b0f1-b0176c85f227",
   "metadata": {},
   "source": [
    "### Bar Chart of Top Job Categories\n",
    "\n",
    "With this data available, let us now build a barchart of the top 5 categories. \n",
    "\n",
    "**HINT**: don't forget about the matplotlib magic!\n",
    "\n",
    "```\n",
    "%matplot plt\n",
    "```"
   ]
  },
  {
   "cell_type": "code",
   "execution_count": 35,
   "id": "6556ae03-4ae5-4d81-aede-82d48f2c872f",
   "metadata": {
    "execution": {
     "iopub.execute_input": "2023-12-01T10:16:03.767748Z",
     "iopub.status.busy": "2023-12-01T10:16:03.767504Z",
     "iopub.status.idle": "2023-12-01T10:16:04.025729Z",
     "shell.execute_reply": "2023-12-01T10:16:04.024897Z",
     "shell.execute_reply.started": "2023-12-01T10:16:03.767724Z"
    },
    "tags": []
   },
   "outputs": [
    {
     "data": {
      "application/vnd.jupyter.widget-view+json": {
       "model_id": "4853f70848814705983b27e15937ac16",
       "version_major": 2,
       "version_minor": 0
      },
      "text/plain": [
       "VBox()"
      ]
     },
     "metadata": {},
     "output_type": "display_data"
    },
    {
     "data": {
      "application/vnd.jupyter.widget-view+json": {
       "model_id": "",
       "version_major": 2,
       "version_minor": 0
      },
      "text/plain": [
       "FloatProgress(value=0.0, bar_style='info', description='Progress:', layout=Layout(height='25px', width='50%'),…"
      ]
     },
     "metadata": {},
     "output_type": "display_data"
    },
    {
     "data": {
      "image/png": "[encoded data removed]",
      "text/plain": [
       "<IPython.core.display.Image object>"
      ]
     },
     "metadata": {},
     "output_type": "display_data"
    }
   ],
   "source": [
    "import pandas as pd\n",
    "import matplotlib.pyplot as plt\n",
    "\n",
    "# Sort DataFrame by 'count' column in descending order\n",
    "top_categories = DFmovie_actors_pd.sort_values(by='count',\n",
    "                                               ascending=False).head(5)\n",
    "\n",
    "# Create a bar plot\n",
    "fig, ax = plt.subplots(figsize=(8, 6))\n",
    "ax.bar(top_categories['category'], top_categories['count'], color='orange')\n",
    "\n",
    "# Set chart title and labels\n",
    "ax.set_title('Top 5 Job Categories')\n",
    "ax.set_ylabel('Count')\n",
    "ax.set_xlabel('Job Categories')\n",
    "\n",
    "# Set y-axis limits\n",
    "ax.set_ylim([0, None])\n",
    "\n",
    "%matplot plt"
   ]
  },
  {
   "cell_type": "markdown",
   "id": "3fd3e05a-105a-4b46-b203-168313bcbc30",
   "metadata": {},
   "source": [
    "# PART 4 - Answer to the following questions:\n"
   ]
  },
  {
   "cell_type": "markdown",
   "id": "37a9f5d2-d131-46fc-a583-c49b4cbb6ca8",
   "metadata": {},
   "source": [
    "## 1) Find all the \"movies\" featuring \"Johnny Depp\" and \"Helena Bonham Carter\".\n"
   ]
  },
  {
   "cell_type": "markdown",
   "id": "2fd18d62-8402-4abe-9ed9-f07d96140ded",
   "metadata": {},
   "source": [
    "First join actors, genres, and movie actors on each other"
   ]
  },
  {
   "cell_type": "code",
   "execution_count": 36,
   "id": "4cc1e2aa-905f-48ff-8ed8-6d895341b638",
   "metadata": {
    "execution": {
     "iopub.execute_input": "2023-12-01T10:16:08.808877Z",
     "iopub.status.busy": "2023-12-01T10:16:08.808660Z",
     "iopub.status.idle": "2023-12-01T10:17:14.254600Z",
     "shell.execute_reply": "2023-12-01T10:17:14.253875Z",
     "shell.execute_reply.started": "2023-12-01T10:16:08.808854Z"
    },
    "tags": []
   },
   "outputs": [
    {
     "data": {
      "application/vnd.jupyter.widget-view+json": {
       "model_id": "0ac7fc5ba0cc4e2ebe5a455826970f1f",
       "version_major": 2,
       "version_minor": 0
      },
      "text/plain": [
       "VBox()"
      ]
     },
     "metadata": {},
     "output_type": "display_data"
    },
    {
     "data": {
      "application/vnd.jupyter.widget-view+json": {
       "model_id": "",
       "version_major": 2,
       "version_minor": 0
      },
      "text/plain": [
       "FloatProgress(value=0.0, bar_style='info', description='Progress:', layout=Layout(height='25px', width='50%'),…"
      ]
     },
     "metadata": {},
     "output_type": "display_data"
    },
    {
     "name": "stdout",
     "output_type": "stream",
     "text": [
      "+----------------------------------------------+\n",
      "|PrimaryTitle                                  |\n",
      "+----------------------------------------------+\n",
      "|Corpse Bride                                  |\n",
      "|Charlie and the Chocolate Factory             |\n",
      "|Alice in Wonderland                           |\n",
      "|Alice Through the Looking Glass               |\n",
      "|Sweeney Todd: The Demon Barber of Fleet Street|\n",
      "|Dark Shadows                                  |\n",
      "+----------------------------------------------+"
     ]
    }
   ],
   "source": [
    "actors.createOrReplaceTempView(\"Actors\")\n",
    "genres.createOrReplaceTempView(\"Genres\")\n",
    "movie_actors.createOrReplaceTempView(\"MovieActors\")\n",
    "\n",
    "join_table2 = spark.sql(\"\"\"\n",
    "SELECT g.PrimaryTitle\n",
    "FROM Genres g JOIN MovieActors m1 ON g.tconst = m1.tconst\n",
    "JOIN Actors a1 ON m1.nconst = a1.nconst AND a1.PrimaryName = \"Johnny Depp\"\n",
    "JOIN MovieActors m2 ON g.tconst = m2.tconst\n",
    "JOIN Actors a2 ON m2.nconst = a2.nconst AND a2.PrimaryName = \"Helena Bonham Carter\"\n",
    "WHERE g.TitleType = 'movie'\n",
    "\"\"\")\n",
    "\n",
    "join_table2.show(truncate=False)"
   ]
  },
  {
   "cell_type": "markdown",
   "id": "3fcfa275-25b2-4c29-a460-f6c3b0a07806",
   "metadata": {},
   "source": [
    "## 2) Find all the \"movies\" featuring \"Brad Pitt\" after 2010.. Find all the \"movies\" featuring \"Bratt Pitt\" after 2010 "
   ]
  },
  {
   "cell_type": "code",
   "execution_count": 37,
   "id": "e7fb92b5-f4d7-4d56-ae90-518cd6a0c1eb",
   "metadata": {
    "execution": {
     "iopub.execute_input": "2023-12-01T10:17:25.004416Z",
     "iopub.status.busy": "2023-12-01T10:17:25.004191Z",
     "iopub.status.idle": "2023-12-01T10:18:16.386769Z",
     "shell.execute_reply": "2023-12-01T10:18:16.386076Z",
     "shell.execute_reply.started": "2023-12-01T10:17:25.004393Z"
    },
    "tags": []
   },
   "outputs": [
    {
     "data": {
      "application/vnd.jupyter.widget-view+json": {
       "model_id": "13ccd4f1edfe4d7b86b047ecdf31194f",
       "version_major": 2,
       "version_minor": 0
      },
      "text/plain": [
       "VBox()"
      ]
     },
     "metadata": {},
     "output_type": "display_data"
    },
    {
     "data": {
      "application/vnd.jupyter.widget-view+json": {
       "model_id": "",
       "version_major": 2,
       "version_minor": 0
      },
      "text/plain": [
       "FloatProgress(value=0.0, bar_style='info', description='Progress:', layout=Layout(height='25px', width='50%'),…"
      ]
     },
     "metadata": {},
     "output_type": "display_data"
    },
    {
     "name": "stdout",
     "output_type": "stream",
     "text": [
      "+---------------------------------+---------+\n",
      "|PrimaryTitle                     |StartYear|\n",
      "+---------------------------------+---------+\n",
      "|By the Sea                       |2015     |\n",
      "|Irresistible                     |2020     |\n",
      "|Babylon                          |2021     |\n",
      "|Voyage of Time: Life's Journey   |2016     |\n",
      "|Kick-Ass 2                       |2013     |\n",
      "|Kajillionaire                    |2020     |\n",
      "|12 Years a Slave                 |2013     |\n",
      "|The Tree of Life                 |2011     |\n",
      "|The Big Short                    |2015     |\n",
      "|The King                         |2019     |\n",
      "|Fury                             |2014     |\n",
      "|Vice                             |2018     |\n",
      "|Moneyball                        |2011     |\n",
      "|Killing Them Softly              |2012     |\n",
      "|Allied                           |2016     |\n",
      "|War Machine                      |2017     |\n",
      "|Hitting the Apex                 |2015     |\n",
      "|Ad Astra                         |2019     |\n",
      "|Once Upon a Time ... in Hollywood|2019     |\n",
      "|World War Z                      |2013     |\n",
      "+---------------------------------+---------+"
     ]
    }
   ],
   "source": [
    "join_table2 = spark.sql(\"\"\"\n",
    "SELECT Genres.PrimaryTitle, Genres.StartYear\n",
    "FROM MovieActors JOIN Genres ON MovieActors.tconst = Genres.tconst\n",
    "JOIN Actors ON MovieActors.nconst = Actors.nconst\n",
    "WHERE Actors.PrimaryName = 'Brad Pitt'\n",
    "AND Genres.TitleType = 'movie'\n",
    "AND Genres.StartYear > 2010\n",
    "\"\"\")\n",
    "\n",
    "join_table2.show(truncate=False)"
   ]
  },
  {
   "cell_type": "markdown",
   "id": "82c82eef-88a7-48cd-88ca-f986d145c85b",
   "metadata": {},
   "source": [
    "## 3) What is the number of \"movies\" \"acted\" by \"Zendaya\" per year?"
   ]
  },
  {
   "cell_type": "code",
   "execution_count": 38,
   "id": "b0d17e43-2345-4a4c-8204-e40b65b2ab3d",
   "metadata": {
    "execution": {
     "iopub.execute_input": "2023-12-01T10:18:49.907815Z",
     "iopub.status.busy": "2023-12-01T10:18:49.907510Z",
     "iopub.status.idle": "2023-12-01T10:19:43.316935Z",
     "shell.execute_reply": "2023-12-01T10:19:43.316047Z",
     "shell.execute_reply.started": "2023-12-01T10:18:49.907780Z"
    },
    "tags": []
   },
   "outputs": [
    {
     "data": {
      "application/vnd.jupyter.widget-view+json": {
       "model_id": "3cd8413d3959499aa5c039cb2c1bd0fa",
       "version_major": 2,
       "version_minor": 0
      },
      "text/plain": [
       "VBox()"
      ]
     },
     "metadata": {},
     "output_type": "display_data"
    },
    {
     "data": {
      "application/vnd.jupyter.widget-view+json": {
       "model_id": "",
       "version_major": 2,
       "version_minor": 0
      },
      "text/plain": [
       "FloatProgress(value=0.0, bar_style='info', description='Progress:', layout=Layout(height='25px', width='50%'),…"
      ]
     },
     "metadata": {},
     "output_type": "display_data"
    },
    {
     "name": "stdout",
     "output_type": "stream",
     "text": [
      "+---------+-----+\n",
      "|StartYear|count|\n",
      "+---------+-----+\n",
      "|     2017|    1|\n",
      "|     2018|    2|\n",
      "|     2020|    1|\n",
      "|       \\N|    2|\n",
      "+---------+-----+"
     ]
    }
   ],
   "source": [
    "join_table2 = spark.sql(\"\"\"\n",
    "SELECT Genres.StartYear, COUNT(DISTINCT MovieActors.tconst) AS count\n",
    "FROM MovieActors JOIN Genres ON MovieActors.tconst = Genres.tconst\n",
    "JOIN Actors ON MovieActors.nconst = Actors.nconst\n",
    "WHERE Actors.PrimaryName = 'Zendaya' \n",
    "AND Genres.TitleType = 'movie'\n",
    "AND Genres.StartYear <> '\\\\N'\n",
    "GROUP BY Genres.StartYear\n",
    "ORDER BY Genres.StartYear ASC\n",
    "\"\"\")\n",
    "\n",
    "join_table2.show()"
   ]
  },
  {
   "cell_type": "markdown",
   "id": "b9771a57-f7b7-4c78-90e1-ceaf392d6b20",
   "metadata": {},
   "source": [
    "## 4) What are the \"movies\" by average rating greater than \"9.7\" and released in \"2019\"?\n"
   ]
  },
  {
   "cell_type": "code",
   "execution_count": 39,
   "id": "812d7e7b-570f-4b85-be96-75c22f86e0ca",
   "metadata": {
    "execution": {
     "iopub.execute_input": "2023-12-01T10:19:48.777668Z",
     "iopub.status.busy": "2023-12-01T10:19:48.777412Z",
     "iopub.status.idle": "2023-12-01T10:19:56.199982Z",
     "shell.execute_reply": "2023-12-01T10:19:56.199092Z",
     "shell.execute_reply.started": "2023-12-01T10:19:48.777643Z"
    },
    "tags": []
   },
   "outputs": [
    {
     "data": {
      "application/vnd.jupyter.widget-view+json": {
       "model_id": "a432c3e32cd045c697ecb0192d0e5a52",
       "version_major": 2,
       "version_minor": 0
      },
      "text/plain": [
       "VBox()"
      ]
     },
     "metadata": {},
     "output_type": "display_data"
    },
    {
     "data": {
      "application/vnd.jupyter.widget-view+json": {
       "model_id": "",
       "version_major": 2,
       "version_minor": 0
      },
      "text/plain": [
       "FloatProgress(value=0.0, bar_style='info', description='Progress:', layout=Layout(height='25px', width='50%'),…"
      ]
     },
     "metadata": {},
     "output_type": "display_data"
    },
    {
     "name": "stdout",
     "output_type": "stream",
     "text": [
      "+-------------------------------------------------+-------------+\n",
      "|PrimaryTitle                                     |AverageRating|\n",
      "+-------------------------------------------------+-------------+\n",
      "|The Twilight Zone: A 60th Anniversary Celebration|10.0         |\n",
      "|The Butcher Baronet                              |10.0         |\n",
      "|A Medicine for the Mind                          |10.0         |\n",
      "|L'Enfant Terrible                                |10.0         |\n",
      "|A Grunt's Life                                   |10.0         |\n",
      "|Our Scripted Life                                |10.0         |\n",
      "|Bu Can Var Oldugu Sürece                         |10.0         |\n",
      "|Love in Kilnerry                                 |10.0         |\n",
      "|Kirket                                           |10.0         |\n",
      "|Square One                                       |9.8          |\n",
      "|Gini Helida Kathe                                |9.8          |\n",
      "|Kamen Rider Zi-O: Over Quartzer                  |9.8          |\n",
      "|We Shall Not Die Now                             |9.8          |\n",
      "|From Shock to Awe                                |9.8          |\n",
      "|Randhawa                                         |9.8          |\n",
      "|Time and motion                                  |9.8          |\n",
      "|The Cardinal                                     |9.9          |\n",
      "|Superhombre                                      |9.9          |\n",
      "|Puritan: All of Life to The Glory of God         |9.9          |\n",
      "+-------------------------------------------------+-------------+"
     ]
    }
   ],
   "source": [
    "ratings.createOrReplaceTempView(\"Ratings\")\n",
    "genres.createOrReplaceTempView(\"Genres\")\n",
    "\n",
    "join_table2 = spark.sql(\"\"\"\n",
    "SELECT Genres.PrimaryTitle, Ratings.AverageRating\n",
    "FROM Genres JOIN Ratings ON Genres.tconst = Ratings.tconst\n",
    "WHERE Genres.StartYear = 2019 \n",
    "AND Genres.TitleType = 'movie'\n",
    "AND Ratings.AverageRating > 9.7\n",
    "GROUP BY Genres.PrimaryTitle, Ratings.AverageRating\n",
    "ORDER BY Ratings.AverageRating ASC\n",
    "\"\"\")\n",
    "\n",
    "join_table2.show(truncate=False)"
   ]
  },
  {
   "cell_type": "markdown",
   "id": "eeef5c1b-b6f9-4ada-854b-fd05f9840b29",
   "metadata": {},
   "source": [
    "## Extra Credit - Analysis of your choice\n",
    "\n",
    "Try and analyze some interesting dimension to this data. You should specify the question in your Project2_Analysis.ipynb. \n",
    "\n",
    "You must join at least two datasets."
   ]
  },
  {
   "cell_type": "markdown",
   "id": "41f9301e-a2ec-47d1-9794-fd2e27b6d697",
   "metadata": {},
   "source": [
    "## 5) List the name of \"Top 5 Highest Rated Actors\" who \"acted\" in the \"movie\" \"Titanic\""
   ]
  },
  {
   "cell_type": "code",
   "execution_count": 40,
   "id": "0d49c1dd-bbae-4054-9e93-cc89e4c69331",
   "metadata": {
    "execution": {
     "iopub.execute_input": "2023-12-01T10:20:03.325947Z",
     "iopub.status.busy": "2023-12-01T10:20:03.325703Z",
     "iopub.status.idle": "2023-12-01T10:20:56.750112Z",
     "shell.execute_reply": "2023-12-01T10:20:56.749228Z",
     "shell.execute_reply.started": "2023-12-01T10:20:03.325923Z"
    },
    "tags": []
   },
   "outputs": [
    {
     "data": {
      "application/vnd.jupyter.widget-view+json": {
       "model_id": "0516fee835954257ae8aeec063ec1d11",
       "version_major": 2,
       "version_minor": 0
      },
      "text/plain": [
       "VBox()"
      ]
     },
     "metadata": {},
     "output_type": "display_data"
    },
    {
     "data": {
      "application/vnd.jupyter.widget-view+json": {
       "model_id": "",
       "version_major": 2,
       "version_minor": 0
      },
      "text/plain": [
       "FloatProgress(value=0.0, bar_style='info', description='Progress:', layout=Layout(height='25px', width='50%'),…"
      ]
     },
     "metadata": {},
     "output_type": "display_data"
    },
    {
     "name": "stdout",
     "output_type": "stream",
     "text": [
      "+-----------------+-------------+\n",
      "|primaryName      |AverageRating|\n",
      "+-----------------+-------------+\n",
      "|Leonardo DiCaprio|7.8          |\n",
      "|Billy Zane       |7.8          |\n",
      "|Robert Wagner    |7.0          |\n",
      "|Clifton Webb     |7.0          |\n",
      "|Luigi Duse       |6.8          |\n",
      "+-----------------+-------------+"
     ]
    }
   ],
   "source": [
    "join_table2 = spark.sql(\"\"\"\n",
    "SELECT Actors.primaryName, Ratings.AverageRating\n",
    "FROM Actors JOIN MovieActors ON Actors.nconst = MovieActors.nconst\n",
    "JOIN Genres ON MovieActors.tconst = Genres.tconst\n",
    "JOIN Ratings ON Genres.tconst = Ratings.tconst\n",
    "WHERE Genres.primaryTitle = 'Titanic' \n",
    "AND Genres.TitleType = 'movie'\n",
    "AND MovieActors.category = 'actor'\n",
    "ORDER BY Ratings.AverageRating DESC LIMIT 5\n",
    "\"\"\")\n",
    "\n",
    "join_table2.show(truncate=False)"
   ]
  }
 ],
 "metadata": {
  "kernelspec": {
   "display_name": "PySpark",
   "language": "python",
   "name": "pysparkkernel"
  },
  "language_info": {
   "codemirror_mode": {
    "name": "python",
    "version": 3
   },
   "file_extension": ".py",
   "mimetype": "text/x-python",
   "name": "pyspark",
   "pygments_lexer": "python3"
  }
 },
 "nbformat": 4,
 "nbformat_minor": 5
}
